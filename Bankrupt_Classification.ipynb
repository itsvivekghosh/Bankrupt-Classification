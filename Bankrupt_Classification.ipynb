{
  "nbformat": 4,
  "nbformat_minor": 0,
  "metadata": {
    "kernelspec": {
      "display_name": "Python 3",
      "language": "python",
      "name": "python3"
    },
    "language_info": {
      "codemirror_mode": {
        "name": "ipython",
        "version": 3
      },
      "file_extension": ".py",
      "mimetype": "text/x-python",
      "name": "python",
      "nbconvert_exporter": "python",
      "pygments_lexer": "ipython3",
      "version": "3.7.4"
    },
    "colab": {
      "name": "Bankrupt Classification.ipynb",
      "provenance": [],
      "collapsed_sections": [],
      "include_colab_link": true
    },
    "accelerator": "GPU"
  },
  "cells": [
    {
      "cell_type": "markdown",
      "metadata": {
        "id": "view-in-github",
        "colab_type": "text"
      },
      "source": [
        "<a href=\"https://colab.research.google.com/github/itsvivekghosh/Bankrupt-Classification/blob/master/Bankrupt_Classification.ipynb\" target=\"_parent\"><img src=\"https://colab.research.google.com/assets/colab-badge.svg\" alt=\"Open In Colab\"/></a>"
      ]
    },
    {
      "cell_type": "markdown",
      "metadata": {
        "id": "F6-bdv-EuwzQ",
        "colab_type": "text"
      },
      "source": [
        "# Importing Data\n",
        "\n"
      ]
    },
    {
      "cell_type": "markdown",
      "metadata": {
        "id": "y674Fwo7vJmu",
        "colab_type": "text"
      },
      "source": [
        "## Data Set Information:\n",
        "The dataset is about bankruptcy prediction of Polish companies. The data was collected from Emerging Markets Information Service (EMIS, [Web Link]), which is a database containing information on emerging markets around the world. The bankrupt companies were analysed in the period 2000-2012, while the still operating companies were evaluated from 2007 to 2013.\n",
        "Basing on the collected data five classification cases were distinguished, that depends on the forecasting period:\n",
        "- 1stYear the data contains financial rates from 1st year of the forecasting period and corresponding class label that indicates bankruptcy status after 5 years. The data contains 7027 instances (financial statements), 271 represents bankrupted companies, 6756 firms that did not bankrupt in the forecasting period.\n",
        "- 2ndYear  the data contains financial rates from 2nd year of the forecasting period and corresponding class label that indicates bankruptcy status after 4 years. The data contains 10173 instances (financial statements), 400 represents bankrupted companies, 9773 firms that did not bankrupt in the forecasting period.\n",
        "- 3rdYear  the data contains financial rates from 3rd year of the forecasting period and corresponding class label that indicates bankruptcy status after 3 years. The data contains 10503 instances (financial statements), 495 represents bankrupted companies, 10008 firms that did not bankrupt in the forecasting period.\n",
        "- 4thYear the data contains financial rates from 4th year of the forecasting period and corresponding class label that indicates bankruptcy status after 2 years. The data contains 9792 instances (financial statements), 515 represents bankrupted companies, 9277 firms that did not bankrupt in the forecasting period.\n",
        "- 5thYear  the data contains financial rates from 5th year of the forecasting period and corresponding class label that indicates bankruptcy status after 1 year. The data contains 5910 instances (financial statements), 410 represents bankrupted companies, 5500 firms that did not bankrupt in the forecasting period.\n"
      ]
    },
    {
      "cell_type": "code",
      "metadata": {
        "id": "wq6SgiLli7mi",
        "colab_type": "code",
        "colab": {
          "base_uri": "https://localhost:8080/",
          "height": 70
        },
        "outputId": "d2ed478b-5996-4404-e21a-b08379aa6cbb"
      },
      "source": [
        "### import important libraries\n",
        "import pandas as pd\n",
        "import numpy as np\n",
        "import matplotlib.pyplot as plt\n",
        "import seaborn as sns\n",
        "import plotly.express as px\n",
        "import warnings\n",
        "warnings.filterwarnings('ignore')\n",
        "pd.set_option(\"display.max_rows\", None)\n",
        "pd.set_option(\"display.max_columns\", None)\n",
        "%matplotlib inline\n",
        "import numpy"
      ],
      "execution_count": 1,
      "outputs": [
        {
          "output_type": "stream",
          "text": [
            "/usr/local/lib/python3.6/dist-packages/statsmodels/tools/_testing.py:19: FutureWarning: pandas.util.testing is deprecated. Use the functions in the public API at pandas.testing instead.\n",
            "  import pandas.util.testing as tm\n"
          ],
          "name": "stderr"
        }
      ]
    },
    {
      "cell_type": "code",
      "metadata": {
        "id": "JQ8d2vObjBbY",
        "colab_type": "code",
        "colab": {
          "base_uri": "https://localhost:8080/",
          "height": 53
        },
        "outputId": "182ca250-6984-4f73-d2cf-4a0455195137"
      },
      "source": [
        "###linking google drive\n",
        "from google.colab import drive\n",
        "drive.mount('/content/drive')"
      ],
      "execution_count": 2,
      "outputs": [
        {
          "output_type": "stream",
          "text": [
            "Drive already mounted at /content/drive; to attempt to forcibly remount, call drive.mount(\"/content/drive\", force_remount=True).\n"
          ],
          "name": "stdout"
        }
      ]
    },
    {
      "cell_type": "code",
      "metadata": {
        "id": "LtfeocuXi7mr",
        "colab_type": "code",
        "colab": {
          "base_uri": "https://localhost:8080/",
          "height": 33
        },
        "outputId": "36b94cc8-19a9-4de5-d74a-558fba3619ce"
      },
      "source": [
        "## reading all datasets\n",
        "year1=pd.read_csv(\"/content/drive/My Drive/Bankruptcy dataset.zip (Unzipped Files)/Bankruptcy dataset/1year.csv\")\n",
        "year2=pd.read_csv(\"/content/drive/My Drive/Bankruptcy dataset.zip (Unzipped Files)/Bankruptcy dataset/2year.csv\")\n",
        "year3=pd.read_csv(\"/content/drive/My Drive/Bankruptcy dataset.zip (Unzipped Files)/Bankruptcy dataset/3year.csv\")\n",
        "year4=pd.read_csv(\"/content/drive/My Drive/Bankruptcy dataset.zip (Unzipped Files)/Bankruptcy dataset/4year.csv\")\n",
        "year5=pd.read_csv(\"/content/drive/My Drive/Bankruptcy dataset.zip (Unzipped Files)/Bankruptcy dataset/5year.csv\")\n",
        "print(year1.shape, year2.shape, year3.shape, year4.shape, year5.shape)"
      ],
      "execution_count": 3,
      "outputs": [
        {
          "output_type": "stream",
          "text": [
            "(7012, 65) (10173, 65) (10476, 65) (9539, 65) (5427, 65)\n"
          ],
          "name": "stdout"
        }
      ]
    },
    {
      "cell_type": "code",
      "metadata": {
        "id": "lv_t7Vfai7mx",
        "colab_type": "code",
        "colab": {
          "base_uri": "https://localhost:8080/",
          "height": 33
        },
        "outputId": "c5d105b0-aaf5-409f-fa39-6329df4dda4a"
      },
      "source": [
        "## merging all datasets\n",
        "df=pd.concat([year1, year2, year3, year4, year5], axis=0)\n",
        "df.shape"
      ],
      "execution_count": 4,
      "outputs": [
        {
          "output_type": "execute_result",
          "data": {
            "text/plain": [
              "(42627, 65)"
            ]
          },
          "metadata": {
            "tags": []
          },
          "execution_count": 4
        }
      ]
    },
    {
      "cell_type": "code",
      "metadata": {
        "scrolled": false,
        "id": "LMmYGAyGi7m2",
        "colab_type": "code",
        "colab": {
          "base_uri": "https://localhost:8080/",
          "height": 216
        },
        "outputId": "0170805f-c6d1-419c-a0ae-8d198479b305"
      },
      "source": [
        "## head of dataset\n",
        "df.head()"
      ],
      "execution_count": 5,
      "outputs": [
        {
          "output_type": "execute_result",
          "data": {
            "text/html": [
              "<div>\n",
              "<style scoped>\n",
              "    .dataframe tbody tr th:only-of-type {\n",
              "        vertical-align: middle;\n",
              "    }\n",
              "\n",
              "    .dataframe tbody tr th {\n",
              "        vertical-align: top;\n",
              "    }\n",
              "\n",
              "    .dataframe thead th {\n",
              "        text-align: right;\n",
              "    }\n",
              "</style>\n",
              "<table border=\"1\" class=\"dataframe\">\n",
              "  <thead>\n",
              "    <tr style=\"text-align: right;\">\n",
              "      <th></th>\n",
              "      <th>Attr1</th>\n",
              "      <th>Attr2</th>\n",
              "      <th>Attr3</th>\n",
              "      <th>Attr4</th>\n",
              "      <th>Attr5</th>\n",
              "      <th>Attr6</th>\n",
              "      <th>Attr7</th>\n",
              "      <th>Attr8</th>\n",
              "      <th>Attr9</th>\n",
              "      <th>Attr10</th>\n",
              "      <th>Attr11</th>\n",
              "      <th>Attr12</th>\n",
              "      <th>Attr13</th>\n",
              "      <th>Attr14</th>\n",
              "      <th>Attr15</th>\n",
              "      <th>Attr16</th>\n",
              "      <th>Attr17</th>\n",
              "      <th>Attr18</th>\n",
              "      <th>Attr19</th>\n",
              "      <th>Attr20</th>\n",
              "      <th>Attr21</th>\n",
              "      <th>Attr22</th>\n",
              "      <th>Attr23</th>\n",
              "      <th>Attr24</th>\n",
              "      <th>Attr25</th>\n",
              "      <th>Attr26</th>\n",
              "      <th>Attr27</th>\n",
              "      <th>Attr28</th>\n",
              "      <th>Attr29</th>\n",
              "      <th>Attr30</th>\n",
              "      <th>Attr31</th>\n",
              "      <th>Attr32</th>\n",
              "      <th>Attr33</th>\n",
              "      <th>Attr34</th>\n",
              "      <th>Attr35</th>\n",
              "      <th>Attr36</th>\n",
              "      <th>Attr37</th>\n",
              "      <th>Attr38</th>\n",
              "      <th>Attr39</th>\n",
              "      <th>Attr40</th>\n",
              "      <th>Attr41</th>\n",
              "      <th>Attr42</th>\n",
              "      <th>Attr43</th>\n",
              "      <th>Attr44</th>\n",
              "      <th>Attr45</th>\n",
              "      <th>Attr46</th>\n",
              "      <th>Attr47</th>\n",
              "      <th>Attr48</th>\n",
              "      <th>Attr49</th>\n",
              "      <th>Attr50</th>\n",
              "      <th>Attr51</th>\n",
              "      <th>Attr52</th>\n",
              "      <th>Attr53</th>\n",
              "      <th>Attr54</th>\n",
              "      <th>Attr55</th>\n",
              "      <th>Attr56</th>\n",
              "      <th>Attr57</th>\n",
              "      <th>Attr58</th>\n",
              "      <th>Attr59</th>\n",
              "      <th>Attr60</th>\n",
              "      <th>Attr61</th>\n",
              "      <th>Attr62</th>\n",
              "      <th>Attr63</th>\n",
              "      <th>Attr64</th>\n",
              "      <th>class</th>\n",
              "    </tr>\n",
              "  </thead>\n",
              "  <tbody>\n",
              "    <tr>\n",
              "      <th>0</th>\n",
              "      <td>0.20055</td>\n",
              "      <td>0.37951</td>\n",
              "      <td>0.39641</td>\n",
              "      <td>2.0472</td>\n",
              "      <td>32.351</td>\n",
              "      <td>0.38825</td>\n",
              "      <td>0.24976</td>\n",
              "      <td>1.3305</td>\n",
              "      <td>1.1389</td>\n",
              "      <td>0.50494</td>\n",
              "      <td>0.24976</td>\n",
              "      <td>0.6598</td>\n",
              "      <td>0.1666</td>\n",
              "      <td>0.24976</td>\n",
              "      <td>497.42</td>\n",
              "      <td>0.73378</td>\n",
              "      <td>2.6349</td>\n",
              "      <td>0.24976</td>\n",
              "      <td>0.14942</td>\n",
              "      <td>43.37</td>\n",
              "      <td>1.2479</td>\n",
              "      <td>0.21402</td>\n",
              "      <td>0.11998</td>\n",
              "      <td>0.47706</td>\n",
              "      <td>0.50494</td>\n",
              "      <td>0.60411</td>\n",
              "      <td>1.4582</td>\n",
              "      <td>1.7615</td>\n",
              "      <td>5.9443</td>\n",
              "      <td>0.11788</td>\n",
              "      <td>0.14942</td>\n",
              "      <td>94.14</td>\n",
              "      <td>3.8772</td>\n",
              "      <td>0.56393</td>\n",
              "      <td>0.21402</td>\n",
              "      <td>1.741</td>\n",
              "      <td>593.27</td>\n",
              "      <td>0.50591</td>\n",
              "      <td>0.12804</td>\n",
              "      <td>0.66295</td>\n",
              "      <td>0.051402</td>\n",
              "      <td>0.12804</td>\n",
              "      <td>114.42</td>\n",
              "      <td>71.05</td>\n",
              "      <td>1.0097</td>\n",
              "      <td>1.5225</td>\n",
              "      <td>49.394</td>\n",
              "      <td>0.1853</td>\n",
              "      <td>0.11085</td>\n",
              "      <td>2.042</td>\n",
              "      <td>0.37854</td>\n",
              "      <td>0.25792</td>\n",
              "      <td>2.2437</td>\n",
              "      <td>2.248</td>\n",
              "      <td>348690</td>\n",
              "      <td>0.12196</td>\n",
              "      <td>0.39718</td>\n",
              "      <td>0.87804</td>\n",
              "      <td>0.001924</td>\n",
              "      <td>8.416</td>\n",
              "      <td>5.1372</td>\n",
              "      <td>82.658</td>\n",
              "      <td>4.4158</td>\n",
              "      <td>7.4277</td>\n",
              "      <td>0</td>\n",
              "    </tr>\n",
              "    <tr>\n",
              "      <th>1</th>\n",
              "      <td>0.20912</td>\n",
              "      <td>0.49988</td>\n",
              "      <td>0.47225</td>\n",
              "      <td>1.9447</td>\n",
              "      <td>14.786</td>\n",
              "      <td>0</td>\n",
              "      <td>0.25834</td>\n",
              "      <td>0.99601</td>\n",
              "      <td>1.6996</td>\n",
              "      <td>0.49788</td>\n",
              "      <td>0.26114</td>\n",
              "      <td>0.5168</td>\n",
              "      <td>0.15835</td>\n",
              "      <td>0.25834</td>\n",
              "      <td>677.96</td>\n",
              "      <td>0.53838</td>\n",
              "      <td>2.0005</td>\n",
              "      <td>0.25834</td>\n",
              "      <td>0.152</td>\n",
              "      <td>87.981</td>\n",
              "      <td>1.4293</td>\n",
              "      <td>0.24806</td>\n",
              "      <td>0.12304</td>\n",
              "      <td>?</td>\n",
              "      <td>0.39542</td>\n",
              "      <td>0.43992</td>\n",
              "      <td>88.444</td>\n",
              "      <td>16.946</td>\n",
              "      <td>3.6884</td>\n",
              "      <td>0.26969</td>\n",
              "      <td>0.152</td>\n",
              "      <td>122.17</td>\n",
              "      <td>2.9876</td>\n",
              "      <td>2.9876</td>\n",
              "      <td>0.20616</td>\n",
              "      <td>1.6996</td>\n",
              "      <td>?</td>\n",
              "      <td>0.49788</td>\n",
              "      <td>0.1213</td>\n",
              "      <td>0.086422</td>\n",
              "      <td>0.064371</td>\n",
              "      <td>0.14595</td>\n",
              "      <td>199.49</td>\n",
              "      <td>111.51</td>\n",
              "      <td>0.51045</td>\n",
              "      <td>1.1252</td>\n",
              "      <td>100.13</td>\n",
              "      <td>0.23727</td>\n",
              "      <td>0.13961</td>\n",
              "      <td>1.9447</td>\n",
              "      <td>0.49988</td>\n",
              "      <td>0.33472</td>\n",
              "      <td>17.866</td>\n",
              "      <td>17.866</td>\n",
              "      <td>2304.6</td>\n",
              "      <td>0.1213</td>\n",
              "      <td>0.42002</td>\n",
              "      <td>0.853</td>\n",
              "      <td>0</td>\n",
              "      <td>4.1486</td>\n",
              "      <td>3.2732</td>\n",
              "      <td>107.35</td>\n",
              "      <td>3.4</td>\n",
              "      <td>60.987</td>\n",
              "      <td>0</td>\n",
              "    </tr>\n",
              "    <tr>\n",
              "      <th>2</th>\n",
              "      <td>0.24866</td>\n",
              "      <td>0.69592</td>\n",
              "      <td>0.26713</td>\n",
              "      <td>1.5548</td>\n",
              "      <td>-1.1523</td>\n",
              "      <td>0</td>\n",
              "      <td>0.30906</td>\n",
              "      <td>0.43695</td>\n",
              "      <td>1.309</td>\n",
              "      <td>0.30408</td>\n",
              "      <td>0.31258</td>\n",
              "      <td>0.64184</td>\n",
              "      <td>0.24435</td>\n",
              "      <td>0.30906</td>\n",
              "      <td>794.16</td>\n",
              "      <td>0.45961</td>\n",
              "      <td>1.4369</td>\n",
              "      <td>0.30906</td>\n",
              "      <td>0.2361</td>\n",
              "      <td>73.133</td>\n",
              "      <td>1.4283</td>\n",
              "      <td>0.3026</td>\n",
              "      <td>0.18996</td>\n",
              "      <td>?</td>\n",
              "      <td>0.28932</td>\n",
              "      <td>0.37282</td>\n",
              "      <td>86.011</td>\n",
              "      <td>1.0627</td>\n",
              "      <td>4.3749</td>\n",
              "      <td>0.41929</td>\n",
              "      <td>0.23815</td>\n",
              "      <td>176.93</td>\n",
              "      <td>2.063</td>\n",
              "      <td>1.4274</td>\n",
              "      <td>0.31565</td>\n",
              "      <td>1.309</td>\n",
              "      <td>2.3019</td>\n",
              "      <td>0.51537</td>\n",
              "      <td>0.24114</td>\n",
              "      <td>0.32202</td>\n",
              "      <td>0.07402</td>\n",
              "      <td>0.23117</td>\n",
              "      <td>165.51</td>\n",
              "      <td>92.381</td>\n",
              "      <td>0.94807</td>\n",
              "      <td>1.0101</td>\n",
              "      <td>96.372</td>\n",
              "      <td>0.29181</td>\n",
              "      <td>0.22293</td>\n",
              "      <td>1.0758</td>\n",
              "      <td>0.48152</td>\n",
              "      <td>0.48474</td>\n",
              "      <td>1.2098</td>\n",
              "      <td>2.0504</td>\n",
              "      <td>6332.7</td>\n",
              "      <td>0.24114</td>\n",
              "      <td>0.81774</td>\n",
              "      <td>0.76599</td>\n",
              "      <td>0.69484</td>\n",
              "      <td>4.9909</td>\n",
              "      <td>3.951</td>\n",
              "      <td>134.27</td>\n",
              "      <td>2.7185</td>\n",
              "      <td>5.2078</td>\n",
              "      <td>0</td>\n",
              "    </tr>\n",
              "    <tr>\n",
              "      <th>3</th>\n",
              "      <td>0.081483</td>\n",
              "      <td>0.30734</td>\n",
              "      <td>0.45879</td>\n",
              "      <td>2.4928</td>\n",
              "      <td>51.952</td>\n",
              "      <td>0.14988</td>\n",
              "      <td>0.092704</td>\n",
              "      <td>1.8661</td>\n",
              "      <td>1.0571</td>\n",
              "      <td>0.57353</td>\n",
              "      <td>0.092704</td>\n",
              "      <td>0.30163</td>\n",
              "      <td>0.094257</td>\n",
              "      <td>0.092704</td>\n",
              "      <td>917.01</td>\n",
              "      <td>0.39803</td>\n",
              "      <td>3.2537</td>\n",
              "      <td>0.092704</td>\n",
              "      <td>0.071428</td>\n",
              "      <td>79.788</td>\n",
              "      <td>1.5069</td>\n",
              "      <td>0.1155</td>\n",
              "      <td>0.062782</td>\n",
              "      <td>0.17193</td>\n",
              "      <td>0.57353</td>\n",
              "      <td>0.36152</td>\n",
              "      <td>0.94076</td>\n",
              "      <td>1.9618</td>\n",
              "      <td>4.6511</td>\n",
              "      <td>0.14343</td>\n",
              "      <td>0.071428</td>\n",
              "      <td>91.37</td>\n",
              "      <td>3.9948</td>\n",
              "      <td>0.37581</td>\n",
              "      <td>0.1155</td>\n",
              "      <td>1.3562</td>\n",
              "      <td>?</td>\n",
              "      <td>0.57353</td>\n",
              "      <td>0.088995</td>\n",
              "      <td>0.40139</td>\n",
              "      <td>0.069622</td>\n",
              "      <td>0.088995</td>\n",
              "      <td>180.77</td>\n",
              "      <td>100.98</td>\n",
              "      <td>0.2872</td>\n",
              "      <td>1.5696</td>\n",
              "      <td>84.344</td>\n",
              "      <td>0.085874</td>\n",
              "      <td>0.066165</td>\n",
              "      <td>2.4928</td>\n",
              "      <td>0.30734</td>\n",
              "      <td>0.25033</td>\n",
              "      <td>2.4524</td>\n",
              "      <td>2.4524</td>\n",
              "      <td>20545</td>\n",
              "      <td>0.054015</td>\n",
              "      <td>0.14207</td>\n",
              "      <td>0.94598</td>\n",
              "      <td>0</td>\n",
              "      <td>4.5746</td>\n",
              "      <td>3.6147</td>\n",
              "      <td>86.435</td>\n",
              "      <td>4.2228</td>\n",
              "      <td>5.5497</td>\n",
              "      <td>0</td>\n",
              "    </tr>\n",
              "    <tr>\n",
              "      <th>4</th>\n",
              "      <td>0.18732</td>\n",
              "      <td>0.61323</td>\n",
              "      <td>0.2296</td>\n",
              "      <td>1.4063</td>\n",
              "      <td>-7.3128</td>\n",
              "      <td>0.18732</td>\n",
              "      <td>0.18732</td>\n",
              "      <td>0.6307</td>\n",
              "      <td>1.1559</td>\n",
              "      <td>0.38677</td>\n",
              "      <td>0.18732</td>\n",
              "      <td>0.33147</td>\n",
              "      <td>0.12182</td>\n",
              "      <td>0.18732</td>\n",
              "      <td>1133.2</td>\n",
              "      <td>0.32211</td>\n",
              "      <td>1.6307</td>\n",
              "      <td>0.18732</td>\n",
              "      <td>0.11553</td>\n",
              "      <td>57.045</td>\n",
              "      <td>?</td>\n",
              "      <td>0.19832</td>\n",
              "      <td>0.11553</td>\n",
              "      <td>0.18732</td>\n",
              "      <td>0.38677</td>\n",
              "      <td>0.32211</td>\n",
              "      <td>1.4138</td>\n",
              "      <td>1.1184</td>\n",
              "      <td>4.1424</td>\n",
              "      <td>0.27884</td>\n",
              "      <td>0.11553</td>\n",
              "      <td>147.04</td>\n",
              "      <td>2.4823</td>\n",
              "      <td>0.3234</td>\n",
              "      <td>0.19832</td>\n",
              "      <td>1.6278</td>\n",
              "      <td>11.247</td>\n",
              "      <td>0.43489</td>\n",
              "      <td>0.12231</td>\n",
              "      <td>0.29304</td>\n",
              "      <td>0.09668</td>\n",
              "      <td>0.12231</td>\n",
              "      <td>141.62</td>\n",
              "      <td>84.574</td>\n",
              "      <td>0.73919</td>\n",
              "      <td>0.95787</td>\n",
              "      <td>65.936</td>\n",
              "      <td>0.18811</td>\n",
              "      <td>0.11601</td>\n",
              "      <td>1.2959</td>\n",
              "      <td>0.56511</td>\n",
              "      <td>0.40285</td>\n",
              "      <td>1.8839</td>\n",
              "      <td>2.1184</td>\n",
              "      <td>3186.6</td>\n",
              "      <td>0.13485</td>\n",
              "      <td>0.48431</td>\n",
              "      <td>0.86515</td>\n",
              "      <td>0.12444</td>\n",
              "      <td>6.3985</td>\n",
              "      <td>4.3158</td>\n",
              "      <td>127.21</td>\n",
              "      <td>2.8692</td>\n",
              "      <td>7.898</td>\n",
              "      <td>0</td>\n",
              "    </tr>\n",
              "  </tbody>\n",
              "</table>\n",
              "</div>"
            ],
            "text/plain": [
              "      Attr1    Attr2    Attr3   Attr4    Attr5    Attr6     Attr7    Attr8  \\\n",
              "0   0.20055  0.37951  0.39641  2.0472   32.351  0.38825   0.24976   1.3305   \n",
              "1   0.20912  0.49988  0.47225  1.9447   14.786        0   0.25834  0.99601   \n",
              "2   0.24866  0.69592  0.26713  1.5548  -1.1523        0   0.30906  0.43695   \n",
              "3  0.081483  0.30734  0.45879  2.4928   51.952  0.14988  0.092704   1.8661   \n",
              "4   0.18732  0.61323   0.2296  1.4063  -7.3128  0.18732   0.18732   0.6307   \n",
              "\n",
              "    Attr9   Attr10    Attr11   Attr12    Attr13    Attr14  Attr15   Attr16  \\\n",
              "0  1.1389  0.50494   0.24976   0.6598    0.1666   0.24976  497.42  0.73378   \n",
              "1  1.6996  0.49788   0.26114   0.5168   0.15835   0.25834  677.96  0.53838   \n",
              "2   1.309  0.30408   0.31258  0.64184   0.24435   0.30906  794.16  0.45961   \n",
              "3  1.0571  0.57353  0.092704  0.30163  0.094257  0.092704  917.01  0.39803   \n",
              "4  1.1559  0.38677   0.18732  0.33147   0.12182   0.18732  1133.2  0.32211   \n",
              "\n",
              "   Attr17    Attr18    Attr19  Attr20  Attr21   Attr22    Attr23   Attr24  \\\n",
              "0  2.6349   0.24976   0.14942   43.37  1.2479  0.21402   0.11998  0.47706   \n",
              "1  2.0005   0.25834     0.152  87.981  1.4293  0.24806   0.12304        ?   \n",
              "2  1.4369   0.30906    0.2361  73.133  1.4283   0.3026   0.18996        ?   \n",
              "3  3.2537  0.092704  0.071428  79.788  1.5069   0.1155  0.062782  0.17193   \n",
              "4  1.6307   0.18732   0.11553  57.045       ?  0.19832   0.11553  0.18732   \n",
              "\n",
              "    Attr25   Attr26   Attr27  Attr28  Attr29   Attr30    Attr31  Attr32  \\\n",
              "0  0.50494  0.60411   1.4582  1.7615  5.9443  0.11788   0.14942   94.14   \n",
              "1  0.39542  0.43992   88.444  16.946  3.6884  0.26969     0.152  122.17   \n",
              "2  0.28932  0.37282   86.011  1.0627  4.3749  0.41929   0.23815  176.93   \n",
              "3  0.57353  0.36152  0.94076  1.9618  4.6511  0.14343  0.071428   91.37   \n",
              "4  0.38677  0.32211   1.4138  1.1184  4.1424  0.27884   0.11553  147.04   \n",
              "\n",
              "   Attr33   Attr34   Attr35  Attr36  Attr37   Attr38    Attr39    Attr40  \\\n",
              "0  3.8772  0.56393  0.21402   1.741  593.27  0.50591   0.12804   0.66295   \n",
              "1  2.9876   2.9876  0.20616  1.6996       ?  0.49788    0.1213  0.086422   \n",
              "2   2.063   1.4274  0.31565   1.309  2.3019  0.51537   0.24114   0.32202   \n",
              "3  3.9948  0.37581   0.1155  1.3562       ?  0.57353  0.088995   0.40139   \n",
              "4  2.4823   0.3234  0.19832  1.6278  11.247  0.43489   0.12231   0.29304   \n",
              "\n",
              "     Attr41    Attr42  Attr43  Attr44   Attr45   Attr46  Attr47    Attr48  \\\n",
              "0  0.051402   0.12804  114.42   71.05   1.0097   1.5225  49.394    0.1853   \n",
              "1  0.064371   0.14595  199.49  111.51  0.51045   1.1252  100.13   0.23727   \n",
              "2   0.07402   0.23117  165.51  92.381  0.94807   1.0101  96.372   0.29181   \n",
              "3  0.069622  0.088995  180.77  100.98   0.2872   1.5696  84.344  0.085874   \n",
              "4   0.09668   0.12231  141.62  84.574  0.73919  0.95787  65.936   0.18811   \n",
              "\n",
              "     Attr49  Attr50   Attr51   Attr52  Attr53  Attr54  Attr55    Attr56  \\\n",
              "0   0.11085   2.042  0.37854  0.25792  2.2437   2.248  348690   0.12196   \n",
              "1   0.13961  1.9447  0.49988  0.33472  17.866  17.866  2304.6    0.1213   \n",
              "2   0.22293  1.0758  0.48152  0.48474  1.2098  2.0504  6332.7   0.24114   \n",
              "3  0.066165  2.4928  0.30734  0.25033  2.4524  2.4524   20545  0.054015   \n",
              "4   0.11601  1.2959  0.56511  0.40285  1.8839  2.1184  3186.6   0.13485   \n",
              "\n",
              "    Attr57   Attr58    Attr59  Attr60  Attr61  Attr62  Attr63  Attr64  class  \n",
              "0  0.39718  0.87804  0.001924   8.416  5.1372  82.658  4.4158  7.4277      0  \n",
              "1  0.42002    0.853         0  4.1486  3.2732  107.35     3.4  60.987      0  \n",
              "2  0.81774  0.76599   0.69484  4.9909   3.951  134.27  2.7185  5.2078      0  \n",
              "3  0.14207  0.94598         0  4.5746  3.6147  86.435  4.2228  5.5497      0  \n",
              "4  0.48431  0.86515   0.12444  6.3985  4.3158  127.21  2.8692   7.898      0  "
            ]
          },
          "metadata": {
            "tags": []
          },
          "execution_count": 5
        }
      ]
    },
    {
      "cell_type": "code",
      "metadata": {
        "id": "wwvtLtkIuJSH",
        "colab_type": "code",
        "colab": {}
      },
      "source": [
        "### looks like our dataset is not clean as it contains many '?' data in each column...\n",
        "### therefore cleaning data"
      ],
      "execution_count": 0,
      "outputs": []
    },
    {
      "cell_type": "markdown",
      "metadata": {
        "id": "ZqsIt-jOi7m8",
        "colab_type": "text"
      },
      "source": [
        "## Data Cleaning"
      ]
    },
    {
      "cell_type": "code",
      "metadata": {
        "scrolled": true,
        "id": "2gUJh_U8i7m9",
        "colab_type": "code",
        "colab": {
          "base_uri": "https://localhost:8080/",
          "height": 33
        },
        "outputId": "38a525da-f406-4a68-f956-d2fd87006f6e"
      },
      "source": [
        "## calculating the total columns in the dataset\n",
        "cols = [x for x in df.columns]\n",
        "len(cols)"
      ],
      "execution_count": 7,
      "outputs": [
        {
          "output_type": "execute_result",
          "data": {
            "text/plain": [
              "65"
            ]
          },
          "metadata": {
            "tags": []
          },
          "execution_count": 7
        }
      ]
    },
    {
      "cell_type": "code",
      "metadata": {
        "id": "FJsLkFV-i7nC",
        "colab_type": "code",
        "colab": {}
      },
      "source": [
        "## replacing all the '?' with nan values and that nan values with the median of the particular dataset\n",
        "for feature in cols:\n",
        "    df[feature]=df[feature].replace(to_replace='?', value=np.nan)\n",
        "for col in cols:\n",
        "    df[col]=df[col].replace(to_replace=np.nan, value=df[col].median())"
      ],
      "execution_count": 0,
      "outputs": []
    },
    {
      "cell_type": "code",
      "metadata": {
        "scrolled": true,
        "id": "kXHFQEp3i7nL",
        "colab_type": "code",
        "colab": {
          "base_uri": "https://localhost:8080/",
          "height": 216
        },
        "outputId": "519b7d83-b4ec-4aed-918a-7e6d77c82eb7"
      },
      "source": [
        "## head of transformed data\n",
        "df.head()"
      ],
      "execution_count": 9,
      "outputs": [
        {
          "output_type": "execute_result",
          "data": {
            "text/html": [
              "<div>\n",
              "<style scoped>\n",
              "    .dataframe tbody tr th:only-of-type {\n",
              "        vertical-align: middle;\n",
              "    }\n",
              "\n",
              "    .dataframe tbody tr th {\n",
              "        vertical-align: top;\n",
              "    }\n",
              "\n",
              "    .dataframe thead th {\n",
              "        text-align: right;\n",
              "    }\n",
              "</style>\n",
              "<table border=\"1\" class=\"dataframe\">\n",
              "  <thead>\n",
              "    <tr style=\"text-align: right;\">\n",
              "      <th></th>\n",
              "      <th>Attr1</th>\n",
              "      <th>Attr2</th>\n",
              "      <th>Attr3</th>\n",
              "      <th>Attr4</th>\n",
              "      <th>Attr5</th>\n",
              "      <th>Attr6</th>\n",
              "      <th>Attr7</th>\n",
              "      <th>Attr8</th>\n",
              "      <th>Attr9</th>\n",
              "      <th>Attr10</th>\n",
              "      <th>Attr11</th>\n",
              "      <th>Attr12</th>\n",
              "      <th>Attr13</th>\n",
              "      <th>Attr14</th>\n",
              "      <th>Attr15</th>\n",
              "      <th>Attr16</th>\n",
              "      <th>Attr17</th>\n",
              "      <th>Attr18</th>\n",
              "      <th>Attr19</th>\n",
              "      <th>Attr20</th>\n",
              "      <th>Attr21</th>\n",
              "      <th>Attr22</th>\n",
              "      <th>Attr23</th>\n",
              "      <th>Attr24</th>\n",
              "      <th>Attr25</th>\n",
              "      <th>Attr26</th>\n",
              "      <th>Attr27</th>\n",
              "      <th>Attr28</th>\n",
              "      <th>Attr29</th>\n",
              "      <th>Attr30</th>\n",
              "      <th>Attr31</th>\n",
              "      <th>Attr32</th>\n",
              "      <th>Attr33</th>\n",
              "      <th>Attr34</th>\n",
              "      <th>Attr35</th>\n",
              "      <th>Attr36</th>\n",
              "      <th>Attr37</th>\n",
              "      <th>Attr38</th>\n",
              "      <th>Attr39</th>\n",
              "      <th>Attr40</th>\n",
              "      <th>Attr41</th>\n",
              "      <th>Attr42</th>\n",
              "      <th>Attr43</th>\n",
              "      <th>Attr44</th>\n",
              "      <th>Attr45</th>\n",
              "      <th>Attr46</th>\n",
              "      <th>Attr47</th>\n",
              "      <th>Attr48</th>\n",
              "      <th>Attr49</th>\n",
              "      <th>Attr50</th>\n",
              "      <th>Attr51</th>\n",
              "      <th>Attr52</th>\n",
              "      <th>Attr53</th>\n",
              "      <th>Attr54</th>\n",
              "      <th>Attr55</th>\n",
              "      <th>Attr56</th>\n",
              "      <th>Attr57</th>\n",
              "      <th>Attr58</th>\n",
              "      <th>Attr59</th>\n",
              "      <th>Attr60</th>\n",
              "      <th>Attr61</th>\n",
              "      <th>Attr62</th>\n",
              "      <th>Attr63</th>\n",
              "      <th>Attr64</th>\n",
              "      <th>class</th>\n",
              "    </tr>\n",
              "  </thead>\n",
              "  <tbody>\n",
              "    <tr>\n",
              "      <th>0</th>\n",
              "      <td>0.20055</td>\n",
              "      <td>0.37951</td>\n",
              "      <td>0.39641</td>\n",
              "      <td>2.0472</td>\n",
              "      <td>32.351</td>\n",
              "      <td>0.38825</td>\n",
              "      <td>0.24976</td>\n",
              "      <td>1.3305</td>\n",
              "      <td>1.1389</td>\n",
              "      <td>0.50494</td>\n",
              "      <td>0.24976</td>\n",
              "      <td>0.6598</td>\n",
              "      <td>0.1666</td>\n",
              "      <td>0.24976</td>\n",
              "      <td>497.42</td>\n",
              "      <td>0.73378</td>\n",
              "      <td>2.6349</td>\n",
              "      <td>0.24976</td>\n",
              "      <td>0.14942</td>\n",
              "      <td>43.37</td>\n",
              "      <td>1.2479</td>\n",
              "      <td>0.21402</td>\n",
              "      <td>0.11998</td>\n",
              "      <td>0.47706</td>\n",
              "      <td>0.50494</td>\n",
              "      <td>0.60411</td>\n",
              "      <td>1.4582</td>\n",
              "      <td>1.7615</td>\n",
              "      <td>5.9443</td>\n",
              "      <td>0.11788</td>\n",
              "      <td>0.14942</td>\n",
              "      <td>94.14</td>\n",
              "      <td>3.8772</td>\n",
              "      <td>0.56393</td>\n",
              "      <td>0.21402</td>\n",
              "      <td>1.741</td>\n",
              "      <td>593.27</td>\n",
              "      <td>0.50591</td>\n",
              "      <td>0.12804</td>\n",
              "      <td>0.66295</td>\n",
              "      <td>0.051402</td>\n",
              "      <td>0.12804</td>\n",
              "      <td>114.42</td>\n",
              "      <td>71.05</td>\n",
              "      <td>1.0097</td>\n",
              "      <td>1.5225</td>\n",
              "      <td>49.394</td>\n",
              "      <td>0.1853</td>\n",
              "      <td>0.11085</td>\n",
              "      <td>2.042</td>\n",
              "      <td>0.37854</td>\n",
              "      <td>0.25792</td>\n",
              "      <td>2.2437</td>\n",
              "      <td>2.248</td>\n",
              "      <td>348690</td>\n",
              "      <td>0.12196</td>\n",
              "      <td>0.39718</td>\n",
              "      <td>0.87804</td>\n",
              "      <td>0.001924</td>\n",
              "      <td>8.416</td>\n",
              "      <td>5.1372</td>\n",
              "      <td>82.658</td>\n",
              "      <td>4.4158</td>\n",
              "      <td>7.4277</td>\n",
              "      <td>0</td>\n",
              "    </tr>\n",
              "    <tr>\n",
              "      <th>1</th>\n",
              "      <td>0.20912</td>\n",
              "      <td>0.49988</td>\n",
              "      <td>0.47225</td>\n",
              "      <td>1.9447</td>\n",
              "      <td>14.786</td>\n",
              "      <td>0</td>\n",
              "      <td>0.25834</td>\n",
              "      <td>0.99601</td>\n",
              "      <td>1.6996</td>\n",
              "      <td>0.49788</td>\n",
              "      <td>0.26114</td>\n",
              "      <td>0.5168</td>\n",
              "      <td>0.15835</td>\n",
              "      <td>0.25834</td>\n",
              "      <td>677.96</td>\n",
              "      <td>0.53838</td>\n",
              "      <td>2.0005</td>\n",
              "      <td>0.25834</td>\n",
              "      <td>0.152</td>\n",
              "      <td>87.981</td>\n",
              "      <td>1.4293</td>\n",
              "      <td>0.24806</td>\n",
              "      <td>0.12304</td>\n",
              "      <td>0.155215</td>\n",
              "      <td>0.39542</td>\n",
              "      <td>0.43992</td>\n",
              "      <td>88.444</td>\n",
              "      <td>16.946</td>\n",
              "      <td>3.6884</td>\n",
              "      <td>0.26969</td>\n",
              "      <td>0.152</td>\n",
              "      <td>122.17</td>\n",
              "      <td>2.9876</td>\n",
              "      <td>2.9876</td>\n",
              "      <td>0.20616</td>\n",
              "      <td>1.6996</td>\n",
              "      <td>3.0745</td>\n",
              "      <td>0.49788</td>\n",
              "      <td>0.1213</td>\n",
              "      <td>0.086422</td>\n",
              "      <td>0.064371</td>\n",
              "      <td>0.14595</td>\n",
              "      <td>199.49</td>\n",
              "      <td>111.51</td>\n",
              "      <td>0.51045</td>\n",
              "      <td>1.1252</td>\n",
              "      <td>100.13</td>\n",
              "      <td>0.23727</td>\n",
              "      <td>0.13961</td>\n",
              "      <td>1.9447</td>\n",
              "      <td>0.49988</td>\n",
              "      <td>0.33472</td>\n",
              "      <td>17.866</td>\n",
              "      <td>17.866</td>\n",
              "      <td>2304.6</td>\n",
              "      <td>0.1213</td>\n",
              "      <td>0.42002</td>\n",
              "      <td>0.853</td>\n",
              "      <td>0</td>\n",
              "      <td>4.1486</td>\n",
              "      <td>3.2732</td>\n",
              "      <td>107.35</td>\n",
              "      <td>3.4</td>\n",
              "      <td>60.987</td>\n",
              "      <td>0</td>\n",
              "    </tr>\n",
              "    <tr>\n",
              "      <th>2</th>\n",
              "      <td>0.24866</td>\n",
              "      <td>0.69592</td>\n",
              "      <td>0.26713</td>\n",
              "      <td>1.5548</td>\n",
              "      <td>-1.1523</td>\n",
              "      <td>0</td>\n",
              "      <td>0.30906</td>\n",
              "      <td>0.43695</td>\n",
              "      <td>1.309</td>\n",
              "      <td>0.30408</td>\n",
              "      <td>0.31258</td>\n",
              "      <td>0.64184</td>\n",
              "      <td>0.24435</td>\n",
              "      <td>0.30906</td>\n",
              "      <td>794.16</td>\n",
              "      <td>0.45961</td>\n",
              "      <td>1.4369</td>\n",
              "      <td>0.30906</td>\n",
              "      <td>0.2361</td>\n",
              "      <td>73.133</td>\n",
              "      <td>1.4283</td>\n",
              "      <td>0.3026</td>\n",
              "      <td>0.18996</td>\n",
              "      <td>0.155215</td>\n",
              "      <td>0.28932</td>\n",
              "      <td>0.37282</td>\n",
              "      <td>86.011</td>\n",
              "      <td>1.0627</td>\n",
              "      <td>4.3749</td>\n",
              "      <td>0.41929</td>\n",
              "      <td>0.23815</td>\n",
              "      <td>176.93</td>\n",
              "      <td>2.063</td>\n",
              "      <td>1.4274</td>\n",
              "      <td>0.31565</td>\n",
              "      <td>1.309</td>\n",
              "      <td>2.3019</td>\n",
              "      <td>0.51537</td>\n",
              "      <td>0.24114</td>\n",
              "      <td>0.32202</td>\n",
              "      <td>0.07402</td>\n",
              "      <td>0.23117</td>\n",
              "      <td>165.51</td>\n",
              "      <td>92.381</td>\n",
              "      <td>0.94807</td>\n",
              "      <td>1.0101</td>\n",
              "      <td>96.372</td>\n",
              "      <td>0.29181</td>\n",
              "      <td>0.22293</td>\n",
              "      <td>1.0758</td>\n",
              "      <td>0.48152</td>\n",
              "      <td>0.48474</td>\n",
              "      <td>1.2098</td>\n",
              "      <td>2.0504</td>\n",
              "      <td>6332.7</td>\n",
              "      <td>0.24114</td>\n",
              "      <td>0.81774</td>\n",
              "      <td>0.76599</td>\n",
              "      <td>0.69484</td>\n",
              "      <td>4.9909</td>\n",
              "      <td>3.951</td>\n",
              "      <td>134.27</td>\n",
              "      <td>2.7185</td>\n",
              "      <td>5.2078</td>\n",
              "      <td>0</td>\n",
              "    </tr>\n",
              "    <tr>\n",
              "      <th>3</th>\n",
              "      <td>0.081483</td>\n",
              "      <td>0.30734</td>\n",
              "      <td>0.45879</td>\n",
              "      <td>2.4928</td>\n",
              "      <td>51.952</td>\n",
              "      <td>0.14988</td>\n",
              "      <td>0.092704</td>\n",
              "      <td>1.8661</td>\n",
              "      <td>1.0571</td>\n",
              "      <td>0.57353</td>\n",
              "      <td>0.092704</td>\n",
              "      <td>0.30163</td>\n",
              "      <td>0.094257</td>\n",
              "      <td>0.092704</td>\n",
              "      <td>917.01</td>\n",
              "      <td>0.39803</td>\n",
              "      <td>3.2537</td>\n",
              "      <td>0.092704</td>\n",
              "      <td>0.071428</td>\n",
              "      <td>79.788</td>\n",
              "      <td>1.5069</td>\n",
              "      <td>0.1155</td>\n",
              "      <td>0.062782</td>\n",
              "      <td>0.17193</td>\n",
              "      <td>0.57353</td>\n",
              "      <td>0.36152</td>\n",
              "      <td>0.94076</td>\n",
              "      <td>1.9618</td>\n",
              "      <td>4.6511</td>\n",
              "      <td>0.14343</td>\n",
              "      <td>0.071428</td>\n",
              "      <td>91.37</td>\n",
              "      <td>3.9948</td>\n",
              "      <td>0.37581</td>\n",
              "      <td>0.1155</td>\n",
              "      <td>1.3562</td>\n",
              "      <td>3.0745</td>\n",
              "      <td>0.57353</td>\n",
              "      <td>0.088995</td>\n",
              "      <td>0.40139</td>\n",
              "      <td>0.069622</td>\n",
              "      <td>0.088995</td>\n",
              "      <td>180.77</td>\n",
              "      <td>100.98</td>\n",
              "      <td>0.2872</td>\n",
              "      <td>1.5696</td>\n",
              "      <td>84.344</td>\n",
              "      <td>0.085874</td>\n",
              "      <td>0.066165</td>\n",
              "      <td>2.4928</td>\n",
              "      <td>0.30734</td>\n",
              "      <td>0.25033</td>\n",
              "      <td>2.4524</td>\n",
              "      <td>2.4524</td>\n",
              "      <td>20545</td>\n",
              "      <td>0.054015</td>\n",
              "      <td>0.14207</td>\n",
              "      <td>0.94598</td>\n",
              "      <td>0</td>\n",
              "      <td>4.5746</td>\n",
              "      <td>3.6147</td>\n",
              "      <td>86.435</td>\n",
              "      <td>4.2228</td>\n",
              "      <td>5.5497</td>\n",
              "      <td>0</td>\n",
              "    </tr>\n",
              "    <tr>\n",
              "      <th>4</th>\n",
              "      <td>0.18732</td>\n",
              "      <td>0.61323</td>\n",
              "      <td>0.2296</td>\n",
              "      <td>1.4063</td>\n",
              "      <td>-7.3128</td>\n",
              "      <td>0.18732</td>\n",
              "      <td>0.18732</td>\n",
              "      <td>0.6307</td>\n",
              "      <td>1.1559</td>\n",
              "      <td>0.38677</td>\n",
              "      <td>0.18732</td>\n",
              "      <td>0.33147</td>\n",
              "      <td>0.12182</td>\n",
              "      <td>0.18732</td>\n",
              "      <td>1133.2</td>\n",
              "      <td>0.32211</td>\n",
              "      <td>1.6307</td>\n",
              "      <td>0.18732</td>\n",
              "      <td>0.11553</td>\n",
              "      <td>57.045</td>\n",
              "      <td>1.0438</td>\n",
              "      <td>0.19832</td>\n",
              "      <td>0.11553</td>\n",
              "      <td>0.18732</td>\n",
              "      <td>0.38677</td>\n",
              "      <td>0.32211</td>\n",
              "      <td>1.4138</td>\n",
              "      <td>1.1184</td>\n",
              "      <td>4.1424</td>\n",
              "      <td>0.27884</td>\n",
              "      <td>0.11553</td>\n",
              "      <td>147.04</td>\n",
              "      <td>2.4823</td>\n",
              "      <td>0.3234</td>\n",
              "      <td>0.19832</td>\n",
              "      <td>1.6278</td>\n",
              "      <td>11.247</td>\n",
              "      <td>0.43489</td>\n",
              "      <td>0.12231</td>\n",
              "      <td>0.29304</td>\n",
              "      <td>0.09668</td>\n",
              "      <td>0.12231</td>\n",
              "      <td>141.62</td>\n",
              "      <td>84.574</td>\n",
              "      <td>0.73919</td>\n",
              "      <td>0.95787</td>\n",
              "      <td>65.936</td>\n",
              "      <td>0.18811</td>\n",
              "      <td>0.11601</td>\n",
              "      <td>1.2959</td>\n",
              "      <td>0.56511</td>\n",
              "      <td>0.40285</td>\n",
              "      <td>1.8839</td>\n",
              "      <td>2.1184</td>\n",
              "      <td>3186.6</td>\n",
              "      <td>0.13485</td>\n",
              "      <td>0.48431</td>\n",
              "      <td>0.86515</td>\n",
              "      <td>0.12444</td>\n",
              "      <td>6.3985</td>\n",
              "      <td>4.3158</td>\n",
              "      <td>127.21</td>\n",
              "      <td>2.8692</td>\n",
              "      <td>7.898</td>\n",
              "      <td>0</td>\n",
              "    </tr>\n",
              "  </tbody>\n",
              "</table>\n",
              "</div>"
            ],
            "text/plain": [
              "      Attr1    Attr2    Attr3   Attr4    Attr5    Attr6     Attr7    Attr8  \\\n",
              "0   0.20055  0.37951  0.39641  2.0472   32.351  0.38825   0.24976   1.3305   \n",
              "1   0.20912  0.49988  0.47225  1.9447   14.786        0   0.25834  0.99601   \n",
              "2   0.24866  0.69592  0.26713  1.5548  -1.1523        0   0.30906  0.43695   \n",
              "3  0.081483  0.30734  0.45879  2.4928   51.952  0.14988  0.092704   1.8661   \n",
              "4   0.18732  0.61323   0.2296  1.4063  -7.3128  0.18732   0.18732   0.6307   \n",
              "\n",
              "    Attr9   Attr10    Attr11   Attr12    Attr13    Attr14  Attr15   Attr16  \\\n",
              "0  1.1389  0.50494   0.24976   0.6598    0.1666   0.24976  497.42  0.73378   \n",
              "1  1.6996  0.49788   0.26114   0.5168   0.15835   0.25834  677.96  0.53838   \n",
              "2   1.309  0.30408   0.31258  0.64184   0.24435   0.30906  794.16  0.45961   \n",
              "3  1.0571  0.57353  0.092704  0.30163  0.094257  0.092704  917.01  0.39803   \n",
              "4  1.1559  0.38677   0.18732  0.33147   0.12182   0.18732  1133.2  0.32211   \n",
              "\n",
              "   Attr17    Attr18    Attr19  Attr20  Attr21   Attr22    Attr23    Attr24  \\\n",
              "0  2.6349   0.24976   0.14942   43.37  1.2479  0.21402   0.11998   0.47706   \n",
              "1  2.0005   0.25834     0.152  87.981  1.4293  0.24806   0.12304  0.155215   \n",
              "2  1.4369   0.30906    0.2361  73.133  1.4283   0.3026   0.18996  0.155215   \n",
              "3  3.2537  0.092704  0.071428  79.788  1.5069   0.1155  0.062782   0.17193   \n",
              "4  1.6307   0.18732   0.11553  57.045  1.0438  0.19832   0.11553   0.18732   \n",
              "\n",
              "    Attr25   Attr26   Attr27  Attr28  Attr29   Attr30    Attr31  Attr32  \\\n",
              "0  0.50494  0.60411   1.4582  1.7615  5.9443  0.11788   0.14942   94.14   \n",
              "1  0.39542  0.43992   88.444  16.946  3.6884  0.26969     0.152  122.17   \n",
              "2  0.28932  0.37282   86.011  1.0627  4.3749  0.41929   0.23815  176.93   \n",
              "3  0.57353  0.36152  0.94076  1.9618  4.6511  0.14343  0.071428   91.37   \n",
              "4  0.38677  0.32211   1.4138  1.1184  4.1424  0.27884   0.11553  147.04   \n",
              "\n",
              "   Attr33   Attr34   Attr35  Attr36  Attr37   Attr38    Attr39    Attr40  \\\n",
              "0  3.8772  0.56393  0.21402   1.741  593.27  0.50591   0.12804   0.66295   \n",
              "1  2.9876   2.9876  0.20616  1.6996  3.0745  0.49788    0.1213  0.086422   \n",
              "2   2.063   1.4274  0.31565   1.309  2.3019  0.51537   0.24114   0.32202   \n",
              "3  3.9948  0.37581   0.1155  1.3562  3.0745  0.57353  0.088995   0.40139   \n",
              "4  2.4823   0.3234  0.19832  1.6278  11.247  0.43489   0.12231   0.29304   \n",
              "\n",
              "     Attr41    Attr42  Attr43  Attr44   Attr45   Attr46  Attr47    Attr48  \\\n",
              "0  0.051402   0.12804  114.42   71.05   1.0097   1.5225  49.394    0.1853   \n",
              "1  0.064371   0.14595  199.49  111.51  0.51045   1.1252  100.13   0.23727   \n",
              "2   0.07402   0.23117  165.51  92.381  0.94807   1.0101  96.372   0.29181   \n",
              "3  0.069622  0.088995  180.77  100.98   0.2872   1.5696  84.344  0.085874   \n",
              "4   0.09668   0.12231  141.62  84.574  0.73919  0.95787  65.936   0.18811   \n",
              "\n",
              "     Attr49  Attr50   Attr51   Attr52  Attr53  Attr54  Attr55    Attr56  \\\n",
              "0   0.11085   2.042  0.37854  0.25792  2.2437   2.248  348690   0.12196   \n",
              "1   0.13961  1.9447  0.49988  0.33472  17.866  17.866  2304.6    0.1213   \n",
              "2   0.22293  1.0758  0.48152  0.48474  1.2098  2.0504  6332.7   0.24114   \n",
              "3  0.066165  2.4928  0.30734  0.25033  2.4524  2.4524   20545  0.054015   \n",
              "4   0.11601  1.2959  0.56511  0.40285  1.8839  2.1184  3186.6   0.13485   \n",
              "\n",
              "    Attr57   Attr58    Attr59  Attr60  Attr61  Attr62  Attr63  Attr64  class  \n",
              "0  0.39718  0.87804  0.001924   8.416  5.1372  82.658  4.4158  7.4277      0  \n",
              "1  0.42002    0.853         0  4.1486  3.2732  107.35     3.4  60.987      0  \n",
              "2  0.81774  0.76599   0.69484  4.9909   3.951  134.27  2.7185  5.2078      0  \n",
              "3  0.14207  0.94598         0  4.5746  3.6147  86.435  4.2228  5.5497      0  \n",
              "4  0.48431  0.86515   0.12444  6.3985  4.3158  127.21  2.8692   7.898      0  "
            ]
          },
          "metadata": {
            "tags": []
          },
          "execution_count": 9
        }
      ]
    },
    {
      "cell_type": "markdown",
      "metadata": {
        "id": "8CHMJDvvwTYg",
        "colab_type": "text"
      },
      "source": [
        "### Exploratory Data Analysis"
      ]
    },
    {
      "cell_type": "code",
      "metadata": {
        "id": "JN5PjoXmwov0",
        "colab_type": "code",
        "colab": {
          "base_uri": "https://localhost:8080/",
          "height": 33
        },
        "outputId": "5b09a882-1c11-4854-e95d-4f71219f7538"
      },
      "source": [
        "### no. of features except 'class'\n",
        "cols = [x for x in df.columns if(x!='class')]\n",
        "len(cols)"
      ],
      "execution_count": 10,
      "outputs": [
        {
          "output_type": "execute_result",
          "data": {
            "text/plain": [
              "64"
            ]
          },
          "metadata": {
            "tags": []
          },
          "execution_count": 10
        }
      ]
    },
    {
      "cell_type": "code",
      "metadata": {
        "id": "lpIkOFvb20jI",
        "colab_type": "code",
        "colab": {}
      },
      "source": [
        "### converting the object features to value features by converting each value to float value\n",
        "for feature in cols:\n",
        "    df[feature]=df[feature].apply(lambda x: float(x))"
      ],
      "execution_count": 0,
      "outputs": []
    },
    {
      "cell_type": "code",
      "metadata": {
        "id": "FyDClNCywN4U",
        "colab_type": "code",
        "colab": {
          "base_uri": "https://localhost:8080/",
          "height": 597
        },
        "outputId": "6c6a2443-dcd6-4747-96c1-c067bf707625"
      },
      "source": [
        "### Data Correlation Plot\n",
        "plt.figure(figsize=(30, 16))\n",
        "sns.heatmap(df.corr())\n",
        "plt.show()"
      ],
      "execution_count": 12,
      "outputs": [
        {
          "output_type": "display_data",
          "data": {
            "image/png": "[encoded data removed]",
            "text/plain": [
              "<Figure size 2160x1152 with 2 Axes>"
            ]
          },
          "metadata": {
            "tags": [],
            "needs_background": "light"
          }
        }
      ]
    },
    {
      "cell_type": "markdown",
      "metadata": {
        "id": "EInVvr2dwI31",
        "colab_type": "text"
      },
      "source": [
        "### Data Preprocessing"
      ]
    },
    {
      "cell_type": "code",
      "metadata": {
        "id": "YHh8fIJ0wLd7",
        "colab_type": "code",
        "colab": {
          "base_uri": "https://localhost:8080/",
          "height": 405
        },
        "outputId": "c0637f2e-56a6-4120-d393-c689d21555bc"
      },
      "source": [
        "### plotting the count of each fetaure..\n",
        "plt.figure(figsize=(10, 6))\n",
        "sns.countplot(x='class', data=df)"
      ],
      "execution_count": 13,
      "outputs": [
        {
          "output_type": "execute_result",
          "data": {
            "text/plain": [
              "<matplotlib.axes._subplots.AxesSubplot at 0x7f32aeec61d0>"
            ]
          },
          "metadata": {
            "tags": []
          },
          "execution_count": 13
        },
        {
          "output_type": "display_data",
          "data": {
            "image/png": "[encoded data removed]",
            "text/plain": [
              "<Figure size 720x432 with 1 Axes>"
            ]
          },
          "metadata": {
            "tags": [],
            "needs_background": "light"
          }
        }
      ]
    },
    {
      "cell_type": "markdown",
      "metadata": {
        "id": "RG7Kb4L34NMX",
        "colab_type": "text"
      },
      "source": [
        "As we can see that class 1 data has less samples as compared to class 0 samples. That means, we do have less samples for bankrupt analysis. Hence, this is an imbalanced dataset. \n",
        "\n",
        "- So, we do have to modify the imbalanced dataset to a balanced datasetby  either by:\n",
        "    - Down Sampling or by,\n",
        "    - Up Sampling.\n",
        "\n",
        "I chose to go with upsampling using RandomOverSampler"
      ]
    },
    {
      "cell_type": "code",
      "metadata": {
        "id": "OoUhfGaV5SIR",
        "colab_type": "code",
        "colab": {
          "base_uri": "https://localhost:8080/",
          "height": 33
        },
        "outputId": "4717b608-0824-47ae-a26d-3dbddb53c0ef"
      },
      "source": [
        "## Original Dataset count of each class\n",
        "from collections import Counter\n",
        "print(\"Original Dataset Shape: {}\".format(Counter(df['class'])))"
      ],
      "execution_count": 14,
      "outputs": [
        {
          "output_type": "stream",
          "text": [
            "Original Dataset Shape: Counter({0: 40578, 1: 2049})\n"
          ],
          "name": "stdout"
        }
      ]
    },
    {
      "cell_type": "code",
      "metadata": {
        "id": "HR7JY7s7i7nX",
        "colab_type": "code",
        "colab": {}
      },
      "source": [
        "### Diving the features as independent and dependent features\n",
        "X=df.iloc[:, :-1] ## independent features\n",
        "y=pd.DataFrame(df.iloc[:, -1], columns=['class'])  ## dependent features"
      ],
      "execution_count": 0,
      "outputs": []
    },
    {
      "cell_type": "code",
      "metadata": {
        "id": "jHoBhFeJ50Ag",
        "colab_type": "code",
        "colab": {}
      },
      "source": [
        "### Random Over-Sampling\n",
        "from imblearn.over_sampling import RandomOverSampler\n",
        "os=RandomOverSampler(random_state=42)   ## Over-Sampling \n",
        "X_os, y_os=os.fit_sample(X, y)   ## random-sampling of X, y"
      ],
      "execution_count": 0,
      "outputs": []
    },
    {
      "cell_type": "code",
      "metadata": {
        "id": "5C85-SLs68wm",
        "colab_type": "code",
        "colab": {
          "base_uri": "https://localhost:8080/",
          "height": 50
        },
        "outputId": "c5cdc058-6b19-415b-f24e-a339763be6d1"
      },
      "source": [
        "### the original and over-sampled class count\n",
        "print(\"Original Dataset Shape: {}\".format(Counter(df['class'])))  ## original sample dataset\n",
        "print(\"OverSample Dataset Shape: {}\".format(Counter(y_os)))  ## over-sampled dataset"
      ],
      "execution_count": 17,
      "outputs": [
        {
          "output_type": "stream",
          "text": [
            "Original Dataset Shape: Counter({0: 40578, 1: 2049})\n",
            "OverSample Dataset Shape: Counter({0: 40578, 1: 40578})\n"
          ],
          "name": "stdout"
        }
      ]
    },
    {
      "cell_type": "code",
      "metadata": {
        "scrolled": true,
        "id": "ogmybcrgi7nS",
        "colab_type": "code",
        "colab": {
          "base_uri": "https://localhost:8080/",
          "height": 33
        },
        "outputId": "59b90aed-7479-4a63-e247-3cb6b2bbee4b"
      },
      "source": [
        "### Data scaling using Standard Scalar\n",
        "from sklearn.preprocessing import StandardScaler, MinMaxScaler\n",
        "sc=StandardScaler() ## scaling down the features\n",
        "sc ## scaler-object"
      ],
      "execution_count": 18,
      "outputs": [
        {
          "output_type": "execute_result",
          "data": {
            "text/plain": [
              "StandardScaler(copy=True, with_mean=True, with_std=True)"
            ]
          },
          "metadata": {
            "tags": []
          },
          "execution_count": 18
        }
      ]
    },
    {
      "cell_type": "code",
      "metadata": {
        "id": "pcjpvZH6i7nb",
        "colab_type": "code",
        "colab": {
          "base_uri": "https://localhost:8080/",
          "height": 33
        },
        "outputId": "e497c119-ba7e-4308-ed06-2cc6d4c28188"
      },
      "source": [
        "X_os=pd.DataFrame(sc.fit_transform(X_os), columns=[X.columns])  ### Scaling the X_os ie. oversampled dataset\n",
        "X_os.shape, y_os.shape  ##shape of transformed oversampled dataset"
      ],
      "execution_count": 19,
      "outputs": [
        {
          "output_type": "execute_result",
          "data": {
            "text/plain": [
              "((81156, 64), (81156,))"
            ]
          },
          "metadata": {
            "tags": []
          },
          "execution_count": 19
        }
      ]
    },
    {
      "cell_type": "code",
      "metadata": {
        "id": "cKeJ6mdZi7nm",
        "colab_type": "code",
        "colab": {
          "base_uri": "https://localhost:8080/",
          "height": 33
        },
        "outputId": "3fbe0386-7923-4b13-bbbf-83c825041d2a"
      },
      "source": [
        "### Splitting of Dataset into the train and test datasets at a threshold of 80% of train and 20% to be test dataset..\n",
        "from sklearn.model_selection import train_test_split as tts\n",
        "X_train, X_test, y_train, y_test=tts(X_os, y_os, test_size=0.2, random_state=0) ### train-test-split\n",
        "print(X_train.shape, X_test.shape) ## finding each shape"
      ],
      "execution_count": 20,
      "outputs": [
        {
          "output_type": "stream",
          "text": [
            "(64924, 64) (16232, 64)\n"
          ],
          "name": "stdout"
        }
      ]
    },
    {
      "cell_type": "markdown",
      "metadata": {
        "id": "Uoh7_3rSA1KP",
        "colab_type": "text"
      },
      "source": [
        "# DATA MODELING\n",
        "\n",
        "Data Modeling is the step in which we fit the model and find the best estimator for the dataset(classification in this case).\n",
        "\n",
        "So, this is performed according the accuracy scores attained byeach estimator.\n",
        "The Chosen Classifying algorithmss are:\n",
        "1. RandomForest Classifier\n",
        "2. XGB Classifier\n",
        "3. KNearest Neighbor Classifier\n",
        "4. Decision Tree Classifier."
      ]
    },
    {
      "cell_type": "code",
      "metadata": {
        "id": "bVFEiawGCGjj",
        "colab_type": "code",
        "colab": {}
      },
      "source": [
        "accuracies_=[]\n",
        "r2_scores=[]\n",
        "algorithms=[]"
      ],
      "execution_count": 0,
      "outputs": []
    },
    {
      "cell_type": "code",
      "metadata": {
        "id": "TBdS6uVRC_TE",
        "colab_type": "code",
        "colab": {}
      },
      "source": [
        "### importing necessary libraries\n",
        "from sklearn.model_selection import cross_val_score ### for cross-validtion over the samples\n",
        "from sklearn.metrics import r2_score, accuracy_score, classification_report, confusion_matrix ### generating the reports like r2-Scores, accuracies and confusion-scores\n",
        "from sklearn.model_selection import GridSearchCV, RandomizedSearchCV ### Hyper-Parameter Tuning \n",
        "from xgboost import XGBClassifier ## XGB CLassifier from XGBoost Lib.\n",
        "from sklearn.neighbors import KNeighborsClassifier ## KNeighbor Classifier from neighbor lib.\n",
        "from sklearn.tree import DecisionTreeClassifier ### Decision Tree Classifier from tree lib.\n",
        "from sklearn.ensemble import RandomForestClassifier ## importing Random-Forest Classifier from ensemble lib."
      ],
      "execution_count": 0,
      "outputs": []
    },
    {
      "cell_type": "markdown",
      "metadata": {
        "id": "f5QPj6b8CUf4",
        "colab_type": "text"
      },
      "source": [
        "# 1. Random Forest Classifier"
      ]
    },
    {
      "cell_type": "code",
      "metadata": {
        "id": "03GhqzYti7nq",
        "colab_type": "code",
        "colab": {
          "base_uri": "https://localhost:8080/",
          "height": 150
        },
        "outputId": "be7455c9-662a-469c-9192-2e26d0002b1e"
      },
      "source": [
        "### Random-Forest Classifier\n",
        "rf=RandomForestClassifier() ## making object\n",
        "rf.fit(X_train, y_train)"
      ],
      "execution_count": 23,
      "outputs": [
        {
          "output_type": "execute_result",
          "data": {
            "text/plain": [
              "RandomForestClassifier(bootstrap=True, ccp_alpha=0.0, class_weight=None,\n",
              "                       criterion='gini', max_depth=None, max_features='auto',\n",
              "                       max_leaf_nodes=None, max_samples=None,\n",
              "                       min_impurity_decrease=0.0, min_impurity_split=None,\n",
              "                       min_samples_leaf=1, min_samples_split=2,\n",
              "                       min_weight_fraction_leaf=0.0, n_estimators=100,\n",
              "                       n_jobs=None, oob_score=False, random_state=None,\n",
              "                       verbose=0, warm_start=False)"
            ]
          },
          "metadata": {
            "tags": []
          },
          "execution_count": 23
        }
      ]
    },
    {
      "cell_type": "code",
      "metadata": {
        "id": "wgYIocSTCCDu",
        "colab_type": "code",
        "colab": {
          "base_uri": "https://localhost:8080/",
          "height": 482
        },
        "outputId": "ea126282-94db-42f4-96d2-f06fc686835b"
      },
      "source": [
        "accuracies=cross_val_score(estimator=rf, X=X_test, y=y_test, cv=10) ## generating the accuracies using cross_val_score\n",
        "\n",
        "###  Predicting the test-values\n",
        "y_pred=rf.predict(X_test)\n",
        "r2_scores.append(r2_score(y_pred, y_test))\n",
        "algorithms.append(\"Random Forest Classifier\")\n",
        "accuracies_.append(accuracies.mean())\n",
        "print(\"Accuracy Score: {}\".format(accuracy_score(y_pred, y_test)))\n",
        "print(\"Classification Report: \\n{}\".format(classification_report(y_pred, y_test)))\n",
        "print(\"Confusion Matrix: \\n{}\".format(sns.heatmap(confusion_matrix(y_pred, y_test), annot=True, cmap='YlGnBu')))"
      ],
      "execution_count": 24,
      "outputs": [
        {
          "output_type": "stream",
          "text": [
            "Accuracy Score: 0.9965500246426812\n",
            "Classification Report: \n",
            "              precision    recall  f1-score   support\n",
            "\n",
            "           0       0.99      1.00      1.00      7981\n",
            "           1       1.00      0.99      1.00      8251\n",
            "\n",
            "    accuracy                           1.00     16232\n",
            "   macro avg       1.00      1.00      1.00     16232\n",
            "weighted avg       1.00      1.00      1.00     16232\n",
            "\n",
            "Confusion Matrix: \n",
            "AxesSubplot(0.125,0.125;0.62x0.755)\n"
          ],
          "name": "stdout"
        },
        {
          "output_type": "display_data",
          "data": {
            "image/png": "[encoded data removed]",
            "text/plain": [
              "<Figure size 432x288 with 2 Axes>"
            ]
          },
          "metadata": {
            "tags": [],
            "needs_background": "light"
          }
        }
      ]
    },
    {
      "cell_type": "markdown",
      "metadata": {
        "id": "YgYbx25vEhE_",
        "colab_type": "text"
      },
      "source": [
        "# 2. XG Boost Classifier"
      ]
    },
    {
      "cell_type": "code",
      "metadata": {
        "id": "2z7O_DX1i7nw",
        "colab_type": "code",
        "colab": {
          "base_uri": "https://localhost:8080/",
          "height": 134
        },
        "outputId": "7064507f-996f-4823-bb4f-12fa729eaa7e"
      },
      "source": [
        "xgb=XGBClassifier(n_estimators=200, max_depth=10, learning_rate=0.5) ### XGB Classifier model\n",
        "xgb.fit(X_train, y_train) ## fitting the dataset for prediction"
      ],
      "execution_count": 25,
      "outputs": [
        {
          "output_type": "execute_result",
          "data": {
            "text/plain": [
              "XGBClassifier(base_score=0.5, booster='gbtree', colsample_bylevel=1,\n",
              "              colsample_bynode=1, colsample_bytree=1, gamma=0,\n",
              "              learning_rate=0.5, max_delta_step=0, max_depth=10,\n",
              "              min_child_weight=1, missing=None, n_estimators=200, n_jobs=1,\n",
              "              nthread=None, objective='binary:logistic', random_state=0,\n",
              "              reg_alpha=0, reg_lambda=1, scale_pos_weight=1, seed=None,\n",
              "              silent=None, subsample=1, verbosity=1)"
            ]
          },
          "metadata": {
            "tags": []
          },
          "execution_count": 25
        }
      ]
    },
    {
      "cell_type": "code",
      "metadata": {
        "id": "y0lRb-Kni7oD",
        "colab_type": "code",
        "colab": {
          "base_uri": "https://localhost:8080/",
          "height": 482
        },
        "outputId": "15812d2e-6d82-469d-d78a-f64207a069e7"
      },
      "source": [
        "accuracies=cross_val_score(estimator=xgb, X=X_test, y=y_test, cv=10) ## generating the accuracies using cross_val_score\n",
        "\n",
        "###  Predicting the test-values\n",
        "y_pred=xgb.predict(X_test)\n",
        "r2_scores.append(r2_score(y_pred, y_test))\n",
        "algorithms.append(\"XG Boost Classifier\")\n",
        "accuracies_.append(accuracies.mean())\n",
        "print(\"Accuracy Score: {}\".format(accuracy_score(y_pred, y_test)))\n",
        "print(\"Classification Report: \\n{}\".format(classification_report(y_pred, y_test)))\n",
        "print(\"Confusion Matrix: \\n{}\".format(sns.heatmap(confusion_matrix(y_pred, y_test), annot=True, cmap='YlGnBu')))"
      ],
      "execution_count": 26,
      "outputs": [
        {
          "output_type": "stream",
          "text": [
            "Accuracy Score: 0.9966116313454904\n",
            "Classification Report: \n",
            "              precision    recall  f1-score   support\n",
            "\n",
            "           0       0.99      1.00      1.00      7982\n",
            "           1       1.00      0.99      1.00      8250\n",
            "\n",
            "    accuracy                           1.00     16232\n",
            "   macro avg       1.00      1.00      1.00     16232\n",
            "weighted avg       1.00      1.00      1.00     16232\n",
            "\n",
            "Confusion Matrix: \n",
            "AxesSubplot(0.125,0.125;0.62x0.755)\n"
          ],
          "name": "stdout"
        },
        {
          "output_type": "display_data",
          "data": {
            "image/png": "[encoded data removed]",
            "text/plain": [
              "<Figure size 432x288 with 2 Axes>"
            ]
          },
          "metadata": {
            "tags": [],
            "needs_background": "light"
          }
        }
      ]
    },
    {
      "cell_type": "markdown",
      "metadata": {
        "id": "5vf-AgHEE6iC",
        "colab_type": "text"
      },
      "source": [
        "# 3. K Nearest Neighbor Classifier"
      ]
    },
    {
      "cell_type": "code",
      "metadata": {
        "id": "X_OlWWR6nlnu",
        "colab_type": "code",
        "colab": {
          "base_uri": "https://localhost:8080/",
          "height": 67
        },
        "outputId": "7e7502f2-a418-4549-a142-d3a808ca360e"
      },
      "source": [
        "knn=KNeighborsClassifier()\n",
        "knn"
      ],
      "execution_count": 27,
      "outputs": [
        {
          "output_type": "execute_result",
          "data": {
            "text/plain": [
              "KNeighborsClassifier(algorithm='auto', leaf_size=30, metric='minkowski',\n",
              "                     metric_params=None, n_jobs=None, n_neighbors=5, p=2,\n",
              "                     weights='uniform')"
            ]
          },
          "metadata": {
            "tags": []
          },
          "execution_count": 27
        }
      ]
    },
    {
      "cell_type": "code",
      "metadata": {
        "id": "A1PCwzKFnwiN",
        "colab_type": "code",
        "colab": {
          "base_uri": "https://localhost:8080/",
          "height": 33
        },
        "outputId": "e8c71301-798c-4564-bbc0-908522f78fe6"
      },
      "source": [
        "knn.fit(X_train, y_train) ## for KNNC model Fitting the samples\n",
        "accuracies=cross_val_score(estimator=knn, X=X_test, y=y_test, cv=10)  ## generating the accuracies using cross_val_score\n",
        "accuracies.mean()"
      ],
      "execution_count": 28,
      "outputs": [
        {
          "output_type": "execute_result",
          "data": {
            "text/plain": [
              "0.7919547817852363"
            ]
          },
          "metadata": {
            "tags": []
          },
          "execution_count": 28
        }
      ]
    },
    {
      "cell_type": "code",
      "metadata": {
        "id": "fQPOUYddnl4b",
        "colab_type": "code",
        "colab": {}
      },
      "source": [
        "knn_accuracy=[]\n",
        "for i in np.arange(1, 20):\n",
        "    knn=KNeighborsClassifier(n_neighbors=i)\n",
        "    knn.fit(X_train, y_train)\n",
        "    accuracies=cross_val_score(estimator=knn, X=X_test, y=y_test, cv=10)\n",
        "    knn_accuracy.append(accuracies.mean())"
      ],
      "execution_count": 0,
      "outputs": []
    },
    {
      "cell_type": "code",
      "metadata": {
        "id": "vGXukpnDnmSj",
        "colab_type": "code",
        "colab": {
          "base_uri": "https://localhost:8080/",
          "height": 542
        },
        "outputId": "11d5af58-10b4-4f42-d14d-bd6d7264b573"
      },
      "source": [
        "px.line(x=np.arange(1, 20), y=knn_accuracy).update_layout(\n",
        "    title='Accuracy Scores according to the Number of neighbors', xaxis_title='No. of Neighbors', yaxis_title='Accuracy'\n",
        ")"
      ],
      "execution_count": 30,
      "outputs": [
        {
          "output_type": "display_data",
          "data": {
            "text/html": [
              "<html>\n",
              "<head><meta charset=\"utf-8\" /></head>\n",
              "<body>\n",
              "    <div>\n",
              "            <script src=\"https://cdnjs.cloudflare.com/ajax/libs/mathjax/2.7.5/MathJax.js?config=TeX-AMS-MML_SVG\"></script><script type=\"text/javascript\">if (window.MathJax) {MathJax.Hub.Config({SVG: {font: \"STIX-Web\"}});}</script>\n",
              "                <script type=\"text/javascript\">window.PlotlyConfig = {MathJaxConfig: 'local'};</script>\n",
              "        <script src=\"https://cdn.plot.ly/plotly-latest.min.js\"></script>    \n",
              "            <div id=\"7caaf013-2dbd-43f9-aa3d-7adc0dfec093\" class=\"plotly-graph-div\" style=\"height:525px; width:100%;\"></div>\n",
              "            <script type=\"text/javascript\">\n",
              "                \n",
              "                    window.PLOTLYENV=window.PLOTLYENV || {};\n",
              "                    \n",
              "                if (document.getElementById(\"7caaf013-2dbd-43f9-aa3d-7adc0dfec093\")) {\n",
              "                    Plotly.newPlot(\n",
              "                        '7caaf013-2dbd-43f9-aa3d-7adc0dfec093',\n",
              "                        [{\"hoverlabel\": {\"namelength\": 0}, \"hovertemplate\": \"x=%{x}<br>y=%{y}\", \"legendgroup\": \"\", \"line\": {\"color\": \"#636efa\", \"dash\": \"solid\"}, \"mode\": \"lines\", \"name\": \"\", \"showlegend\": false, \"type\": \"scatter\", \"x\": [1, 2, 3, 4, 5, 6, 7, 8, 9, 10, 11, 12, 13, 14, 15, 16, 17, 18, 19], \"xaxis\": \"x\", \"y\": [0.9091303354792105, 0.8852884110492945, 0.8426575413771857, 0.8190621120651714, 0.7919547817852363, 0.7811740254773589, 0.7723026293824305, 0.7607200146296009, 0.755853130340032, 0.7535123562459594, 0.7471056457511935, 0.7434096606964541, 0.7426706685606234, 0.7401447101244729, 0.7387274675310879, 0.7342916936039506, 0.7339840774094072, 0.7321356865137539, 0.7317050314293605], \"yaxis\": \"y\"}],\n",
              "                        {\"legend\": {\"tracegroupgap\": 0}, \"margin\": {\"t\": 60}, \"template\": {\"data\": {\"bar\": [{\"error_x\": {\"color\": \"#2a3f5f\"}, \"error_y\": {\"color\": \"#2a3f5f\"}, \"marker\": {\"line\": {\"color\": \"#E5ECF6\", \"width\": 0.5}}, \"type\": \"bar\"}], \"barpolar\": [{\"marker\": {\"line\": {\"color\": \"#E5ECF6\", \"width\": 0.5}}, \"type\": \"barpolar\"}], \"carpet\": [{\"aaxis\": {\"endlinecolor\": \"#2a3f5f\", \"gridcolor\": \"white\", \"linecolor\": \"white\", \"minorgridcolor\": \"white\", \"startlinecolor\": \"#2a3f5f\"}, \"baxis\": {\"endlinecolor\": \"#2a3f5f\", \"gridcolor\": \"white\", \"linecolor\": \"white\", \"minorgridcolor\": \"white\", \"startlinecolor\": \"#2a3f5f\"}, \"type\": \"carpet\"}], \"choropleth\": [{\"colorbar\": {\"outlinewidth\": 0, \"ticks\": \"\"}, \"type\": \"choropleth\"}], \"contour\": [{\"colorbar\": {\"outlinewidth\": 0, \"ticks\": \"\"}, \"colorscale\": [[0.0, \"#0d0887\"], [0.1111111111111111, \"#46039f\"], [0.2222222222222222, \"#7201a8\"], [0.3333333333333333, \"#9c179e\"], [0.4444444444444444, \"#bd3786\"], [0.5555555555555556, \"#d8576b\"], [0.6666666666666666, \"#ed7953\"], [0.7777777777777778, \"#fb9f3a\"], [0.8888888888888888, \"#fdca26\"], [1.0, \"#f0f921\"]], \"type\": \"contour\"}], \"contourcarpet\": [{\"colorbar\": {\"outlinewidth\": 0, \"ticks\": \"\"}, \"type\": \"contourcarpet\"}], \"heatmap\": [{\"colorbar\": {\"outlinewidth\": 0, \"ticks\": \"\"}, \"colorscale\": [[0.0, \"#0d0887\"], [0.1111111111111111, \"#46039f\"], [0.2222222222222222, \"#7201a8\"], [0.3333333333333333, \"#9c179e\"], [0.4444444444444444, \"#bd3786\"], [0.5555555555555556, \"#d8576b\"], [0.6666666666666666, \"#ed7953\"], [0.7777777777777778, \"#fb9f3a\"], [0.8888888888888888, \"#fdca26\"], [1.0, \"#f0f921\"]], \"type\": \"heatmap\"}], \"heatmapgl\": [{\"colorbar\": {\"outlinewidth\": 0, \"ticks\": \"\"}, \"colorscale\": [[0.0, \"#0d0887\"], [0.1111111111111111, \"#46039f\"], [0.2222222222222222, \"#7201a8\"], [0.3333333333333333, \"#9c179e\"], [0.4444444444444444, \"#bd3786\"], [0.5555555555555556, \"#d8576b\"], [0.6666666666666666, \"#ed7953\"], [0.7777777777777778, \"#fb9f3a\"], [0.8888888888888888, \"#fdca26\"], [1.0, \"#f0f921\"]], \"type\": \"heatmapgl\"}], \"histogram\": [{\"marker\": {\"colorbar\": {\"outlinewidth\": 0, \"ticks\": \"\"}}, \"type\": \"histogram\"}], \"histogram2d\": [{\"colorbar\": {\"outlinewidth\": 0, \"ticks\": \"\"}, \"colorscale\": [[0.0, \"#0d0887\"], [0.1111111111111111, \"#46039f\"], [0.2222222222222222, \"#7201a8\"], [0.3333333333333333, \"#9c179e\"], [0.4444444444444444, \"#bd3786\"], [0.5555555555555556, \"#d8576b\"], [0.6666666666666666, \"#ed7953\"], [0.7777777777777778, \"#fb9f3a\"], [0.8888888888888888, \"#fdca26\"], [1.0, \"#f0f921\"]], \"type\": \"histogram2d\"}], \"histogram2dcontour\": [{\"colorbar\": {\"outlinewidth\": 0, \"ticks\": \"\"}, \"colorscale\": [[0.0, \"#0d0887\"], [0.1111111111111111, \"#46039f\"], [0.2222222222222222, \"#7201a8\"], [0.3333333333333333, \"#9c179e\"], [0.4444444444444444, \"#bd3786\"], [0.5555555555555556, \"#d8576b\"], [0.6666666666666666, \"#ed7953\"], [0.7777777777777778, \"#fb9f3a\"], [0.8888888888888888, \"#fdca26\"], [1.0, \"#f0f921\"]], \"type\": \"histogram2dcontour\"}], \"mesh3d\": [{\"colorbar\": {\"outlinewidth\": 0, \"ticks\": \"\"}, \"type\": \"mesh3d\"}], \"parcoords\": [{\"line\": {\"colorbar\": {\"outlinewidth\": 0, \"ticks\": \"\"}}, \"type\": \"parcoords\"}], \"pie\": [{\"automargin\": true, \"type\": \"pie\"}], \"scatter\": [{\"marker\": {\"colorbar\": {\"outlinewidth\": 0, \"ticks\": \"\"}}, \"type\": \"scatter\"}], \"scatter3d\": [{\"line\": {\"colorbar\": {\"outlinewidth\": 0, \"ticks\": \"\"}}, \"marker\": {\"colorbar\": {\"outlinewidth\": 0, \"ticks\": \"\"}}, \"type\": \"scatter3d\"}], \"scattercarpet\": [{\"marker\": {\"colorbar\": {\"outlinewidth\": 0, \"ticks\": \"\"}}, \"type\": \"scattercarpet\"}], \"scattergeo\": [{\"marker\": {\"colorbar\": {\"outlinewidth\": 0, \"ticks\": \"\"}}, \"type\": \"scattergeo\"}], \"scattergl\": [{\"marker\": {\"colorbar\": {\"outlinewidth\": 0, \"ticks\": \"\"}}, \"type\": \"scattergl\"}], \"scattermapbox\": [{\"marker\": {\"colorbar\": {\"outlinewidth\": 0, \"ticks\": \"\"}}, \"type\": \"scattermapbox\"}], \"scatterpolar\": [{\"marker\": {\"colorbar\": {\"outlinewidth\": 0, \"ticks\": \"\"}}, \"type\": \"scatterpolar\"}], \"scatterpolargl\": [{\"marker\": {\"colorbar\": {\"outlinewidth\": 0, \"ticks\": \"\"}}, \"type\": \"scatterpolargl\"}], \"scatterternary\": [{\"marker\": {\"colorbar\": {\"outlinewidth\": 0, \"ticks\": \"\"}}, \"type\": \"scatterternary\"}], \"surface\": [{\"colorbar\": {\"outlinewidth\": 0, \"ticks\": \"\"}, \"colorscale\": [[0.0, \"#0d0887\"], [0.1111111111111111, \"#46039f\"], [0.2222222222222222, \"#7201a8\"], [0.3333333333333333, \"#9c179e\"], [0.4444444444444444, \"#bd3786\"], [0.5555555555555556, \"#d8576b\"], [0.6666666666666666, \"#ed7953\"], [0.7777777777777778, \"#fb9f3a\"], [0.8888888888888888, \"#fdca26\"], [1.0, \"#f0f921\"]], \"type\": \"surface\"}], \"table\": [{\"cells\": {\"fill\": {\"color\": \"#EBF0F8\"}, \"line\": {\"color\": \"white\"}}, \"header\": {\"fill\": {\"color\": \"#C8D4E3\"}, \"line\": {\"color\": \"white\"}}, \"type\": \"table\"}]}, \"layout\": {\"annotationdefaults\": {\"arrowcolor\": \"#2a3f5f\", \"arrowhead\": 0, \"arrowwidth\": 1}, \"coloraxis\": {\"colorbar\": {\"outlinewidth\": 0, \"ticks\": \"\"}}, \"colorscale\": {\"diverging\": [[0, \"#8e0152\"], [0.1, \"#c51b7d\"], [0.2, \"#de77ae\"], [0.3, \"#f1b6da\"], [0.4, \"#fde0ef\"], [0.5, \"#f7f7f7\"], [0.6, \"#e6f5d0\"], [0.7, \"#b8e186\"], [0.8, \"#7fbc41\"], [0.9, \"#4d9221\"], [1, \"#276419\"]], \"sequential\": [[0.0, \"#0d0887\"], [0.1111111111111111, \"#46039f\"], [0.2222222222222222, \"#7201a8\"], [0.3333333333333333, \"#9c179e\"], [0.4444444444444444, \"#bd3786\"], [0.5555555555555556, \"#d8576b\"], [0.6666666666666666, \"#ed7953\"], [0.7777777777777778, \"#fb9f3a\"], [0.8888888888888888, \"#fdca26\"], [1.0, \"#f0f921\"]], \"sequentialminus\": [[0.0, \"#0d0887\"], [0.1111111111111111, \"#46039f\"], [0.2222222222222222, \"#7201a8\"], [0.3333333333333333, \"#9c179e\"], [0.4444444444444444, \"#bd3786\"], [0.5555555555555556, \"#d8576b\"], [0.6666666666666666, \"#ed7953\"], [0.7777777777777778, \"#fb9f3a\"], [0.8888888888888888, \"#fdca26\"], [1.0, \"#f0f921\"]]}, \"colorway\": [\"#636efa\", \"#EF553B\", \"#00cc96\", \"#ab63fa\", \"#FFA15A\", \"#19d3f3\", \"#FF6692\", \"#B6E880\", \"#FF97FF\", \"#FECB52\"], \"font\": {\"color\": \"#2a3f5f\"}, \"geo\": {\"bgcolor\": \"white\", \"lakecolor\": \"white\", \"landcolor\": \"#E5ECF6\", \"showlakes\": true, \"showland\": true, \"subunitcolor\": \"white\"}, \"hoverlabel\": {\"align\": \"left\"}, \"hovermode\": \"closest\", \"mapbox\": {\"style\": \"light\"}, \"paper_bgcolor\": \"white\", \"plot_bgcolor\": \"#E5ECF6\", \"polar\": {\"angularaxis\": {\"gridcolor\": \"white\", \"linecolor\": \"white\", \"ticks\": \"\"}, \"bgcolor\": \"#E5ECF6\", \"radialaxis\": {\"gridcolor\": \"white\", \"linecolor\": \"white\", \"ticks\": \"\"}}, \"scene\": {\"xaxis\": {\"backgroundcolor\": \"#E5ECF6\", \"gridcolor\": \"white\", \"gridwidth\": 2, \"linecolor\": \"white\", \"showbackground\": true, \"ticks\": \"\", \"zerolinecolor\": \"white\"}, \"yaxis\": {\"backgroundcolor\": \"#E5ECF6\", \"gridcolor\": \"white\", \"gridwidth\": 2, \"linecolor\": \"white\", \"showbackground\": true, \"ticks\": \"\", \"zerolinecolor\": \"white\"}, \"zaxis\": {\"backgroundcolor\": \"#E5ECF6\", \"gridcolor\": \"white\", \"gridwidth\": 2, \"linecolor\": \"white\", \"showbackground\": true, \"ticks\": \"\", \"zerolinecolor\": \"white\"}}, \"shapedefaults\": {\"line\": {\"color\": \"#2a3f5f\"}}, \"ternary\": {\"aaxis\": {\"gridcolor\": \"white\", \"linecolor\": \"white\", \"ticks\": \"\"}, \"baxis\": {\"gridcolor\": \"white\", \"linecolor\": \"white\", \"ticks\": \"\"}, \"bgcolor\": \"#E5ECF6\", \"caxis\": {\"gridcolor\": \"white\", \"linecolor\": \"white\", \"ticks\": \"\"}}, \"title\": {\"x\": 0.05}, \"xaxis\": {\"automargin\": true, \"gridcolor\": \"white\", \"linecolor\": \"white\", \"ticks\": \"\", \"title\": {\"standoff\": 15}, \"zerolinecolor\": \"white\", \"zerolinewidth\": 2}, \"yaxis\": {\"automargin\": true, \"gridcolor\": \"white\", \"linecolor\": \"white\", \"ticks\": \"\", \"title\": {\"standoff\": 15}, \"zerolinecolor\": \"white\", \"zerolinewidth\": 2}}}, \"xaxis\": {\"anchor\": \"y\", \"domain\": [0.0, 1.0], \"title\": {\"text\": \"x\"}}, \"yaxis\": {\"anchor\": \"x\", \"domain\": [0.0, 1.0], \"title\": {\"text\": \"y\"}}},\n",
              "                        {\"responsive\": true}\n",
              "                    ).then(function(){\n",
              "                            \n",
              "var gd = document.getElementById('7caaf013-2dbd-43f9-aa3d-7adc0dfec093');\n",
              "var x = new MutationObserver(function (mutations, observer) {{\n",
              "        var display = window.getComputedStyle(gd).display;\n",
              "        if (!display || display === 'none') {{\n",
              "            console.log([gd, 'removed!']);\n",
              "            Plotly.purge(gd);\n",
              "            observer.disconnect();\n",
              "        }}\n",
              "}});\n",
              "\n",
              "// Listen for the removal of the full notebook cells\n",
              "var notebookContainer = gd.closest('#notebook-container');\n",
              "if (notebookContainer) {{\n",
              "    x.observe(notebookContainer, {childList: true});\n",
              "}}\n",
              "\n",
              "// Listen for the clearing of the current output cell\n",
              "var outputEl = gd.closest('.output');\n",
              "if (outputEl) {{\n",
              "    x.observe(outputEl, {childList: true});\n",
              "}}\n",
              "\n",
              "                        })\n",
              "                };\n",
              "                \n",
              "            </script>\n",
              "        </div>\n",
              "</body>\n",
              "</html>"
            ]
          },
          "metadata": {
            "tags": []
          }
        }
      ]
    },
    {
      "cell_type": "code",
      "metadata": {
        "id": "D69-JfXzFT73",
        "colab_type": "code",
        "colab": {
          "base_uri": "https://localhost:8080/",
          "height": 482
        },
        "outputId": "fed1fd7c-3a17-4da7-b4e0-2fb9e6251947"
      },
      "source": [
        "knn=KNeighborsClassifier(n_neighbors=1)\n",
        "knn.fit(X_train, y_train)\n",
        "\n",
        "###  Predicting the test-values\n",
        "y_pred=knn.predict(X_test) ## predicting the values of test-dataset\n",
        "accuracies=cross_val_score(estimator=knn, X=X_test, y=y_test, cv=10)    ## generating the accuracies using cross_val_score\n",
        "r2_scores.append(r2_score(y_pred, y_test))  ## calculating the r2_score\n",
        "algorithms.append(\"K Nearest Neighbor Classifier\")\n",
        "accuracies_.append(accuracies.mean())\n",
        "print(\"Accuracy Score: {}\".format(accuracy_score(y_pred, y_test)))\n",
        "print(\"Classification Report: \\n{}\".format(classification_report(y_pred, y_test)))\n",
        "print(\"Confusion Matrix: \\n{}\".format(sns.heatmap(confusion_matrix(y_pred, y_test), annot=True, cmap='YlGnBu')))"
      ],
      "execution_count": 31,
      "outputs": [
        {
          "output_type": "stream",
          "text": [
            "Accuracy Score: 0.9746796451453918\n",
            "Classification Report: \n",
            "              precision    recall  f1-score   support\n",
            "\n",
            "           0       0.95      1.00      0.97      7626\n",
            "           1       1.00      0.95      0.98      8606\n",
            "\n",
            "    accuracy                           0.97     16232\n",
            "   macro avg       0.97      0.98      0.97     16232\n",
            "weighted avg       0.98      0.97      0.97     16232\n",
            "\n",
            "Confusion Matrix: \n",
            "AxesSubplot(0.125,0.125;0.62x0.755)\n"
          ],
          "name": "stdout"
        },
        {
          "output_type": "display_data",
          "data": {
            "image/png": "[encoded data removed]",
            "text/plain": [
              "<Figure size 432x288 with 2 Axes>"
            ]
          },
          "metadata": {
            "tags": [],
            "needs_background": "light"
          }
        }
      ]
    },
    {
      "cell_type": "markdown",
      "metadata": {
        "id": "Vfnj8PT0Fx3g",
        "colab_type": "text"
      },
      "source": [
        " # 4. Decision Tree Classifier"
      ]
    },
    {
      "cell_type": "code",
      "metadata": {
        "id": "r1AdiaUGpJi6",
        "colab_type": "code",
        "colab": {
          "base_uri": "https://localhost:8080/",
          "height": 117
        },
        "outputId": "58fcf5f7-bbac-4345-9cde-f23d5bb3c0d9"
      },
      "source": [
        "tree=DecisionTreeClassifier(max_depth=10)\n",
        "tree"
      ],
      "execution_count": 32,
      "outputs": [
        {
          "output_type": "execute_result",
          "data": {
            "text/plain": [
              "DecisionTreeClassifier(ccp_alpha=0.0, class_weight=None, criterion='gini',\n",
              "                       max_depth=10, max_features=None, max_leaf_nodes=None,\n",
              "                       min_impurity_decrease=0.0, min_impurity_split=None,\n",
              "                       min_samples_leaf=1, min_samples_split=2,\n",
              "                       min_weight_fraction_leaf=0.0, presort='deprecated',\n",
              "                       random_state=None, splitter='best')"
            ]
          },
          "metadata": {
            "tags": []
          },
          "execution_count": 32
        }
      ]
    },
    {
      "cell_type": "code",
      "metadata": {
        "id": "0lfG0OAZpmz7",
        "colab_type": "code",
        "colab": {}
      },
      "source": [
        "param_grid={\n",
        "    'max_depth': [5, 8, 10, 12, 14, 16, 18, 20],\n",
        "    'criterion': ['gini', 'entropy'],\n",
        "    'max_depth': [10, 20, 12, 14, 30, 50, 100]\n",
        "}"
      ],
      "execution_count": 0,
      "outputs": []
    },
    {
      "cell_type": "code",
      "metadata": {
        "id": "f4k_EIVeqT3R",
        "colab_type": "code",
        "colab": {
          "base_uri": "https://localhost:8080/",
          "height": 1000
        },
        "outputId": "4c04230f-b442-44f3-9579-91b5a6085644"
      },
      "source": [
        "grid=RandomizedSearchCV(estimator=tree, param_distributions=param_grid, cv=10, verbose=5)\n",
        "grid.fit(X_train, y_train)"
      ],
      "execution_count": 34,
      "outputs": [
        {
          "output_type": "stream",
          "text": [
            "Fitting 10 folds for each of 10 candidates, totalling 100 fits\n",
            "[CV] max_depth=30, criterion=entropy .................................\n"
          ],
          "name": "stdout"
        },
        {
          "output_type": "stream",
          "text": [
            "[Parallel(n_jobs=1)]: Using backend SequentialBackend with 1 concurrent workers.\n"
          ],
          "name": "stderr"
        },
        {
          "output_type": "stream",
          "text": [
            "[CV] ..... max_depth=30, criterion=entropy, score=0.984, total=   5.1s\n",
            "[CV] max_depth=30, criterion=entropy .................................\n"
          ],
          "name": "stdout"
        },
        {
          "output_type": "stream",
          "text": [
            "[Parallel(n_jobs=1)]: Done   1 out of   1 | elapsed:    5.1s remaining:    0.0s\n"
          ],
          "name": "stderr"
        },
        {
          "output_type": "stream",
          "text": [
            "[CV] ..... max_depth=30, criterion=entropy, score=0.986, total=   5.0s\n",
            "[CV] max_depth=30, criterion=entropy .................................\n"
          ],
          "name": "stdout"
        },
        {
          "output_type": "stream",
          "text": [
            "[Parallel(n_jobs=1)]: Done   2 out of   2 | elapsed:   10.1s remaining:    0.0s\n"
          ],
          "name": "stderr"
        },
        {
          "output_type": "stream",
          "text": [
            "[CV] ..... max_depth=30, criterion=entropy, score=0.982, total=   5.2s\n",
            "[CV] max_depth=30, criterion=entropy .................................\n",
            "[CV] ..... max_depth=30, criterion=entropy, score=0.987, total=   4.9s\n",
            "[CV] max_depth=30, criterion=entropy .................................\n",
            "[CV] ..... max_depth=30, criterion=entropy, score=0.984, total=   5.2s\n",
            "[CV] max_depth=30, criterion=entropy .................................\n",
            "[CV] ..... max_depth=30, criterion=entropy, score=0.986, total=   4.8s\n",
            "[CV] max_depth=30, criterion=entropy .................................\n",
            "[CV] ..... max_depth=30, criterion=entropy, score=0.984, total=   5.1s\n",
            "[CV] max_depth=30, criterion=entropy .................................\n",
            "[CV] ..... max_depth=30, criterion=entropy, score=0.985, total=   4.9s\n",
            "[CV] max_depth=30, criterion=entropy .................................\n",
            "[CV] ..... max_depth=30, criterion=entropy, score=0.984, total=   5.2s\n",
            "[CV] max_depth=30, criterion=entropy .................................\n",
            "[CV] ..... max_depth=30, criterion=entropy, score=0.985, total=   4.7s\n",
            "[CV] max_depth=20, criterion=entropy .................................\n",
            "[CV] ..... max_depth=20, criterion=entropy, score=0.975, total=   4.9s\n",
            "[CV] max_depth=20, criterion=entropy .................................\n",
            "[CV] ..... max_depth=20, criterion=entropy, score=0.984, total=   4.8s\n",
            "[CV] max_depth=20, criterion=entropy .................................\n",
            "[CV] ..... max_depth=20, criterion=entropy, score=0.976, total=   5.0s\n",
            "[CV] max_depth=20, criterion=entropy .................................\n",
            "[CV] ..... max_depth=20, criterion=entropy, score=0.984, total=   4.9s\n",
            "[CV] max_depth=20, criterion=entropy .................................\n",
            "[CV] ..... max_depth=20, criterion=entropy, score=0.976, total=   5.1s\n",
            "[CV] max_depth=20, criterion=entropy .................................\n",
            "[CV] ..... max_depth=20, criterion=entropy, score=0.982, total=   4.7s\n",
            "[CV] max_depth=20, criterion=entropy .................................\n",
            "[CV] ..... max_depth=20, criterion=entropy, score=0.979, total=   5.0s\n",
            "[CV] max_depth=20, criterion=entropy .................................\n",
            "[CV] ..... max_depth=20, criterion=entropy, score=0.977, total=   4.9s\n",
            "[CV] max_depth=20, criterion=entropy .................................\n",
            "[CV] ..... max_depth=20, criterion=entropy, score=0.980, total=   5.1s\n",
            "[CV] max_depth=20, criterion=entropy .................................\n",
            "[CV] ..... max_depth=20, criterion=entropy, score=0.984, total=   4.7s\n",
            "[CV] max_depth=12, criterion=gini ....................................\n",
            "[CV] ........ max_depth=12, criterion=gini, score=0.937, total=   3.2s\n",
            "[CV] max_depth=12, criterion=gini ....................................\n",
            "[CV] ........ max_depth=12, criterion=gini, score=0.932, total=   3.2s\n",
            "[CV] max_depth=12, criterion=gini ....................................\n",
            "[CV] ........ max_depth=12, criterion=gini, score=0.917, total=   3.3s\n",
            "[CV] max_depth=12, criterion=gini ....................................\n",
            "[CV] ........ max_depth=12, criterion=gini, score=0.936, total=   3.2s\n",
            "[CV] max_depth=12, criterion=gini ....................................\n",
            "[CV] ........ max_depth=12, criterion=gini, score=0.931, total=   3.2s\n",
            "[CV] max_depth=12, criterion=gini ....................................\n",
            "[CV] ........ max_depth=12, criterion=gini, score=0.930, total=   3.2s\n",
            "[CV] max_depth=12, criterion=gini ....................................\n",
            "[CV] ........ max_depth=12, criterion=gini, score=0.933, total=   3.2s\n",
            "[CV] max_depth=12, criterion=gini ....................................\n",
            "[CV] ........ max_depth=12, criterion=gini, score=0.928, total=   3.3s\n",
            "[CV] max_depth=12, criterion=gini ....................................\n",
            "[CV] ........ max_depth=12, criterion=gini, score=0.936, total=   3.2s\n",
            "[CV] max_depth=12, criterion=gini ....................................\n",
            "[CV] ........ max_depth=12, criterion=gini, score=0.930, total=   3.2s\n",
            "[CV] max_depth=12, criterion=entropy .................................\n",
            "[CV] ..... max_depth=12, criterion=entropy, score=0.931, total=   4.4s\n",
            "[CV] max_depth=12, criterion=entropy .................................\n",
            "[CV] ..... max_depth=12, criterion=entropy, score=0.928, total=   4.4s\n",
            "[CV] max_depth=12, criterion=entropy .................................\n",
            "[CV] ..... max_depth=12, criterion=entropy, score=0.912, total=   4.4s\n",
            "[CV] max_depth=12, criterion=entropy .................................\n",
            "[CV] ..... max_depth=12, criterion=entropy, score=0.922, total=   4.5s\n",
            "[CV] max_depth=12, criterion=entropy .................................\n",
            "[CV] ..... max_depth=12, criterion=entropy, score=0.921, total=   4.4s\n",
            "[CV] max_depth=12, criterion=entropy .................................\n",
            "[CV] ..... max_depth=12, criterion=entropy, score=0.932, total=   4.4s\n",
            "[CV] max_depth=12, criterion=entropy .................................\n",
            "[CV] ..... max_depth=12, criterion=entropy, score=0.917, total=   4.4s\n",
            "[CV] max_depth=12, criterion=entropy .................................\n",
            "[CV] ..... max_depth=12, criterion=entropy, score=0.925, total=   4.4s\n",
            "[CV] max_depth=12, criterion=entropy .................................\n",
            "[CV] ..... max_depth=12, criterion=entropy, score=0.912, total=   4.5s\n",
            "[CV] max_depth=12, criterion=entropy .................................\n",
            "[CV] ..... max_depth=12, criterion=entropy, score=0.938, total=   4.4s\n",
            "[CV] max_depth=50, criterion=gini ....................................\n",
            "[CV] ........ max_depth=50, criterion=gini, score=0.984, total=   3.7s\n",
            "[CV] max_depth=50, criterion=gini ....................................\n",
            "[CV] ........ max_depth=50, criterion=gini, score=0.984, total=   3.8s\n",
            "[CV] max_depth=50, criterion=gini ....................................\n",
            "[CV] ........ max_depth=50, criterion=gini, score=0.984, total=   4.0s\n",
            "[CV] max_depth=50, criterion=gini ....................................\n",
            "[CV] ........ max_depth=50, criterion=gini, score=0.985, total=   3.7s\n",
            "[CV] max_depth=50, criterion=gini ....................................\n",
            "[CV] ........ max_depth=50, criterion=gini, score=0.982, total=   3.7s\n",
            "[CV] max_depth=50, criterion=gini ....................................\n",
            "[CV] ........ max_depth=50, criterion=gini, score=0.982, total=   3.9s\n",
            "[CV] max_depth=50, criterion=gini ....................................\n",
            "[CV] ........ max_depth=50, criterion=gini, score=0.983, total=   3.8s\n",
            "[CV] max_depth=50, criterion=gini ....................................\n",
            "[CV] ........ max_depth=50, criterion=gini, score=0.983, total=   4.0s\n",
            "[CV] max_depth=50, criterion=gini ....................................\n",
            "[CV] ........ max_depth=50, criterion=gini, score=0.984, total=   3.7s\n",
            "[CV] max_depth=50, criterion=gini ....................................\n",
            "[CV] ........ max_depth=50, criterion=gini, score=0.985, total=   3.8s\n",
            "[CV] max_depth=14, criterion=entropy .................................\n",
            "[CV] ..... max_depth=14, criterion=entropy, score=0.953, total=   4.6s\n",
            "[CV] max_depth=14, criterion=entropy .................................\n",
            "[CV] ..... max_depth=14, criterion=entropy, score=0.953, total=   4.6s\n",
            "[CV] max_depth=14, criterion=entropy .................................\n",
            "[CV] ..... max_depth=14, criterion=entropy, score=0.938, total=   4.8s\n",
            "[CV] max_depth=14, criterion=entropy .................................\n",
            "[CV] ..... max_depth=14, criterion=entropy, score=0.953, total=   4.7s\n",
            "[CV] max_depth=14, criterion=entropy .................................\n",
            "[CV] ..... max_depth=14, criterion=entropy, score=0.944, total=   4.7s\n",
            "[CV] max_depth=14, criterion=entropy .................................\n",
            "[CV] ..... max_depth=14, criterion=entropy, score=0.958, total=   4.6s\n",
            "[CV] max_depth=14, criterion=entropy .................................\n",
            "[CV] ..... max_depth=14, criterion=entropy, score=0.941, total=   4.7s\n",
            "[CV] max_depth=14, criterion=entropy .................................\n",
            "[CV] ..... max_depth=14, criterion=entropy, score=0.949, total=   4.6s\n",
            "[CV] max_depth=14, criterion=entropy .................................\n",
            "[CV] ..... max_depth=14, criterion=entropy, score=0.941, total=   4.8s\n",
            "[CV] max_depth=14, criterion=entropy .................................\n",
            "[CV] ..... max_depth=14, criterion=entropy, score=0.960, total=   4.5s\n",
            "[CV] max_depth=50, criterion=entropy .................................\n",
            "[CV] ..... max_depth=50, criterion=entropy, score=0.984, total=   5.0s\n",
            "[CV] max_depth=50, criterion=entropy .................................\n",
            "[CV] ..... max_depth=50, criterion=entropy, score=0.985, total=   4.8s\n",
            "[CV] max_depth=50, criterion=entropy .................................\n",
            "[CV] ..... max_depth=50, criterion=entropy, score=0.984, total=   5.1s\n",
            "[CV] max_depth=50, criterion=entropy .................................\n",
            "[CV] ..... max_depth=50, criterion=entropy, score=0.986, total=   4.7s\n",
            "[CV] max_depth=50, criterion=entropy .................................\n",
            "[CV] ..... max_depth=50, criterion=entropy, score=0.982, total=   4.9s\n",
            "[CV] max_depth=50, criterion=entropy .................................\n",
            "[CV] ..... max_depth=50, criterion=entropy, score=0.984, total=   4.6s\n",
            "[CV] max_depth=50, criterion=entropy .................................\n",
            "[CV] ..... max_depth=50, criterion=entropy, score=0.984, total=   4.9s\n",
            "[CV] max_depth=50, criterion=entropy .................................\n",
            "[CV] ..... max_depth=50, criterion=entropy, score=0.985, total=   4.7s\n",
            "[CV] max_depth=50, criterion=entropy .................................\n",
            "[CV] ..... max_depth=50, criterion=entropy, score=0.986, total=   4.9s\n",
            "[CV] max_depth=50, criterion=entropy .................................\n",
            "[CV] ..... max_depth=50, criterion=entropy, score=0.984, total=   4.5s\n",
            "[CV] max_depth=10, criterion=entropy .................................\n",
            "[CV] ..... max_depth=10, criterion=entropy, score=0.906, total=   3.9s\n",
            "[CV] max_depth=10, criterion=entropy .................................\n",
            "[CV] ..... max_depth=10, criterion=entropy, score=0.897, total=   4.0s\n",
            "[CV] max_depth=10, criterion=entropy .................................\n",
            "[CV] ..... max_depth=10, criterion=entropy, score=0.885, total=   3.9s\n",
            "[CV] max_depth=10, criterion=entropy .................................\n",
            "[CV] ..... max_depth=10, criterion=entropy, score=0.891, total=   4.0s\n",
            "[CV] max_depth=10, criterion=entropy .................................\n",
            "[CV] ..... max_depth=10, criterion=entropy, score=0.890, total=   3.9s\n",
            "[CV] max_depth=10, criterion=entropy .................................\n",
            "[CV] ..... max_depth=10, criterion=entropy, score=0.901, total=   4.0s\n",
            "[CV] max_depth=10, criterion=entropy .................................\n",
            "[CV] ..... max_depth=10, criterion=entropy, score=0.884, total=   4.0s\n",
            "[CV] max_depth=10, criterion=entropy .................................\n",
            "[CV] ..... max_depth=10, criterion=entropy, score=0.893, total=   4.0s\n",
            "[CV] max_depth=10, criterion=entropy .................................\n",
            "[CV] ..... max_depth=10, criterion=entropy, score=0.884, total=   4.1s\n",
            "[CV] max_depth=10, criterion=entropy .................................\n",
            "[CV] ..... max_depth=10, criterion=entropy, score=0.898, total=   4.1s\n",
            "[CV] max_depth=20, criterion=gini ....................................\n",
            "[CV] ........ max_depth=20, criterion=gini, score=0.980, total=   3.6s\n",
            "[CV] max_depth=20, criterion=gini ....................................\n",
            "[CV] ........ max_depth=20, criterion=gini, score=0.980, total=   3.6s\n",
            "[CV] max_depth=20, criterion=gini ....................................\n",
            "[CV] ........ max_depth=20, criterion=gini, score=0.975, total=   3.9s\n",
            "[CV] max_depth=20, criterion=gini ....................................\n",
            "[CV] ........ max_depth=20, criterion=gini, score=0.979, total=   3.6s\n",
            "[CV] max_depth=20, criterion=gini ....................................\n",
            "[CV] ........ max_depth=20, criterion=gini, score=0.977, total=   3.6s\n",
            "[CV] max_depth=20, criterion=gini ....................................\n",
            "[CV] ........ max_depth=20, criterion=gini, score=0.977, total=   3.7s\n",
            "[CV] max_depth=20, criterion=gini ....................................\n",
            "[CV] ........ max_depth=20, criterion=gini, score=0.975, total=   3.7s\n",
            "[CV] max_depth=20, criterion=gini ....................................\n",
            "[CV] ........ max_depth=20, criterion=gini, score=0.975, total=   3.8s\n",
            "[CV] max_depth=20, criterion=gini ....................................\n",
            "[CV] ........ max_depth=20, criterion=gini, score=0.980, total=   3.5s\n",
            "[CV] max_depth=20, criterion=gini ....................................\n",
            "[CV] ........ max_depth=20, criterion=gini, score=0.978, total=   3.7s\n",
            "[CV] max_depth=10, criterion=gini ....................................\n",
            "[CV] ........ max_depth=10, criterion=gini, score=0.907, total=   2.9s\n",
            "[CV] max_depth=10, criterion=gini ....................................\n",
            "[CV] ........ max_depth=10, criterion=gini, score=0.905, total=   2.9s\n",
            "[CV] max_depth=10, criterion=gini ....................................\n",
            "[CV] ........ max_depth=10, criterion=gini, score=0.888, total=   3.0s\n",
            "[CV] max_depth=10, criterion=gini ....................................\n",
            "[CV] ........ max_depth=10, criterion=gini, score=0.902, total=   2.9s\n",
            "[CV] max_depth=10, criterion=gini ....................................\n",
            "[CV] ........ max_depth=10, criterion=gini, score=0.904, total=   3.0s\n",
            "[CV] max_depth=10, criterion=gini ....................................\n",
            "[CV] ........ max_depth=10, criterion=gini, score=0.906, total=   2.9s\n",
            "[CV] max_depth=10, criterion=gini ....................................\n",
            "[CV] ........ max_depth=10, criterion=gini, score=0.905, total=   2.9s\n",
            "[CV] max_depth=10, criterion=gini ....................................\n",
            "[CV] ........ max_depth=10, criterion=gini, score=0.907, total=   2.9s\n",
            "[CV] max_depth=10, criterion=gini ....................................\n",
            "[CV] ........ max_depth=10, criterion=gini, score=0.910, total=   2.8s\n",
            "[CV] max_depth=10, criterion=gini ....................................\n",
            "[CV] ........ max_depth=10, criterion=gini, score=0.906, total=   2.9s\n"
          ],
          "name": "stdout"
        },
        {
          "output_type": "stream",
          "text": [
            "[Parallel(n_jobs=1)]: Done 100 out of 100 | elapsed:  6.9min finished\n"
          ],
          "name": "stderr"
        },
        {
          "output_type": "execute_result",
          "data": {
            "text/plain": [
              "RandomizedSearchCV(cv=10, error_score=nan,\n",
              "                   estimator=DecisionTreeClassifier(ccp_alpha=0.0,\n",
              "                                                    class_weight=None,\n",
              "                                                    criterion='gini',\n",
              "                                                    max_depth=10,\n",
              "                                                    max_features=None,\n",
              "                                                    max_leaf_nodes=None,\n",
              "                                                    min_impurity_decrease=0.0,\n",
              "                                                    min_impurity_split=None,\n",
              "                                                    min_samples_leaf=1,\n",
              "                                                    min_samples_split=2,\n",
              "                                                    min_weight_fraction_leaf=0.0,\n",
              "                                                    presort='deprecated',\n",
              "                                                    random_state=None,\n",
              "                                                    splitter='best'),\n",
              "                   iid='deprecated', n_iter=10, n_jobs=None,\n",
              "                   param_distributions={'criterion': ['gini', 'entropy'],\n",
              "                                        'max_depth': [10, 20, 12, 14, 30, 50]},\n",
              "                   pre_dispatch='2*n_jobs', random_state=None, refit=True,\n",
              "                   return_train_score=False, scoring=None, verbose=3)"
            ]
          },
          "metadata": {
            "tags": []
          },
          "execution_count": 34
        }
      ]
    },
    {
      "cell_type": "code",
      "metadata": {
        "id": "41hTdbofqk37",
        "colab_type": "code",
        "colab": {
          "base_uri": "https://localhost:8080/",
          "height": 50
        },
        "outputId": "daba3e5b-f1f2-4015-8b5c-930ad1146fdd"
      },
      "source": [
        "print(\"Best Score: {}\\nBest Parameters: {}\".format(grid.best_score_, grid.best_params_))"
      ],
      "execution_count": 35,
      "outputs": [
        {
          "output_type": "stream",
          "text": [
            "Best Score: 0.9846897920021742\n",
            "Best Parameters: {'max_depth': 30, 'criterion': 'entropy'}\n"
          ],
          "name": "stdout"
        }
      ]
    },
    {
      "cell_type": "code",
      "metadata": {
        "id": "R30AtfZHplT9",
        "colab_type": "code",
        "colab": {
          "base_uri": "https://localhost:8080/",
          "height": 33
        },
        "outputId": "a744a194-ce4e-45d2-90d1-10035fe8e68d"
      },
      "source": [
        "tree=grid.best_estimator_\n",
        "tree.fit(X_train, y_train)\n",
        "accuracies=cross_val_score(estimator=tree, X=X_test, y=y_test, cv=10) ## generating the accuracies using cross_val_score\n",
        "accuracies.mean()"
      ],
      "execution_count": 36,
      "outputs": [
        {
          "output_type": "execute_result",
          "data": {
            "text/plain": [
              "0.949605805098507"
            ]
          },
          "metadata": {
            "tags": []
          },
          "execution_count": 36
        }
      ]
    },
    {
      "cell_type": "code",
      "metadata": {
        "id": "51DR0RGwpooD",
        "colab_type": "code",
        "colab": {
          "base_uri": "https://localhost:8080/",
          "height": 482
        },
        "outputId": "a2ca70b5-82d0-4278-b7f8-42beacc477f1"
      },
      "source": [
        "###  Predicting the test-values\n",
        "y_pred=tree.predict(X_test)\n",
        "r2_scores.append(r2_score(y_pred, y_test))\n",
        "algorithms.append(\"Decision Tree Classifier\")\n",
        "accuracies_.append(accuracies.mean())\n",
        "print(\"Accuracy Score: {}\".format(accuracy_score(y_pred, y_test)))\n",
        "print(\"Classification Report: \\n{}\".format(classification_report(y_pred, y_test)))\n",
        "print(\"Confusion Matrix: \\n{}\".format(sns.heatmap(confusion_matrix(y_pred, y_test), annot=True, cmap='YlGnBu')))"
      ],
      "execution_count": 37,
      "outputs": [
        {
          "output_type": "stream",
          "text": [
            "Accuracy Score: 0.9871858058156727\n",
            "Classification Report: \n",
            "              precision    recall  f1-score   support\n",
            "\n",
            "           0       0.97      1.00      0.99      7829\n",
            "           1       1.00      0.98      0.99      8403\n",
            "\n",
            "    accuracy                           0.99     16232\n",
            "   macro avg       0.99      0.99      0.99     16232\n",
            "weighted avg       0.99      0.99      0.99     16232\n",
            "\n",
            "Confusion Matrix: \n",
            "AxesSubplot(0.125,0.125;0.62x0.755)\n"
          ],
          "name": "stdout"
        },
        {
          "output_type": "display_data",
          "data": {
            "image/png": "[encoded data removed]",
            "text/plain": [
              "<Figure size 432x288 with 2 Axes>"
            ]
          },
          "metadata": {
            "tags": [],
            "needs_background": "light"
          }
        }
      ]
    },
    {
      "cell_type": "code",
      "metadata": {
        "id": "oQs2LID1HrXF",
        "colab_type": "code",
        "colab": {
          "base_uri": "https://localhost:8080/",
          "height": 166
        },
        "outputId": "a952be2a-2162-4715-e173-10bb8b87123f"
      },
      "source": [
        "compare_df=pd.DataFrame(zip(algorithms, r2_scores, accuracies_), columns=['Algorithm', 'R2 Scores', 'Accuracy'])\n",
        "compare_df"
      ],
      "execution_count": 38,
      "outputs": [
        {
          "output_type": "execute_result",
          "data": {
            "text/html": [
              "<div>\n",
              "<style scoped>\n",
              "    .dataframe tbody tr th:only-of-type {\n",
              "        vertical-align: middle;\n",
              "    }\n",
              "\n",
              "    .dataframe tbody tr th {\n",
              "        vertical-align: top;\n",
              "    }\n",
              "\n",
              "    .dataframe thead th {\n",
              "        text-align: right;\n",
              "    }\n",
              "</style>\n",
              "<table border=\"1\" class=\"dataframe\">\n",
              "  <thead>\n",
              "    <tr style=\"text-align: right;\">\n",
              "      <th></th>\n",
              "      <th>Algorithm</th>\n",
              "      <th>R2 Scores</th>\n",
              "      <th>Accuracy</th>\n",
              "    </tr>\n",
              "  </thead>\n",
              "  <tbody>\n",
              "    <tr>\n",
              "      <th>0</th>\n",
              "      <td>Random Forest Classifier</td>\n",
              "      <td>0.986196</td>\n",
              "      <td>0.975419</td>\n",
              "    </tr>\n",
              "    <tr>\n",
              "      <th>1</th>\n",
              "      <td>XG Boost Classifier</td>\n",
              "      <td>0.986443</td>\n",
              "      <td>0.981025</td>\n",
              "    </tr>\n",
              "    <tr>\n",
              "      <th>2</th>\n",
              "      <td>K Nearest Neighbor Classifier</td>\n",
              "      <td>0.898348</td>\n",
              "      <td>0.731705</td>\n",
              "    </tr>\n",
              "    <tr>\n",
              "      <th>3</th>\n",
              "      <td>Decision Tree Classifier</td>\n",
              "      <td>0.948679</td>\n",
              "      <td>0.949606</td>\n",
              "    </tr>\n",
              "  </tbody>\n",
              "</table>\n",
              "</div>"
            ],
            "text/plain": [
              "                       Algorithm  R2 Scores  Accuracy\n",
              "0       Random Forest Classifier   0.986196  0.975419\n",
              "1            XG Boost Classifier   0.986443  0.981025\n",
              "2  K Nearest Neighbor Classifier   0.898348  0.731705\n",
              "3       Decision Tree Classifier   0.948679  0.949606"
            ]
          },
          "metadata": {
            "tags": []
          },
          "execution_count": 38
        }
      ]
    },
    {
      "cell_type": "code",
      "metadata": {
        "id": "2llk9vEVHrfl",
        "colab_type": "code",
        "colab": {
          "base_uri": "https://localhost:8080/",
          "height": 286
        },
        "outputId": "5fea9db1-08c7-49ab-fb89-782e19ce120c"
      },
      "source": [
        "compare_df_melt=compare_df.melt(id_vars='Algorithm', value_vars=['R2 Scores', 'Accuracy'])\n",
        "compare_df_melt"
      ],
      "execution_count": 39,
      "outputs": [
        {
          "output_type": "execute_result",
          "data": {
            "text/html": [
              "<div>\n",
              "<style scoped>\n",
              "    .dataframe tbody tr th:only-of-type {\n",
              "        vertical-align: middle;\n",
              "    }\n",
              "\n",
              "    .dataframe tbody tr th {\n",
              "        vertical-align: top;\n",
              "    }\n",
              "\n",
              "    .dataframe thead th {\n",
              "        text-align: right;\n",
              "    }\n",
              "</style>\n",
              "<table border=\"1\" class=\"dataframe\">\n",
              "  <thead>\n",
              "    <tr style=\"text-align: right;\">\n",
              "      <th></th>\n",
              "      <th>Algorithm</th>\n",
              "      <th>variable</th>\n",
              "      <th>value</th>\n",
              "    </tr>\n",
              "  </thead>\n",
              "  <tbody>\n",
              "    <tr>\n",
              "      <th>0</th>\n",
              "      <td>Random Forest Classifier</td>\n",
              "      <td>R2 Scores</td>\n",
              "      <td>0.986196</td>\n",
              "    </tr>\n",
              "    <tr>\n",
              "      <th>1</th>\n",
              "      <td>XG Boost Classifier</td>\n",
              "      <td>R2 Scores</td>\n",
              "      <td>0.986443</td>\n",
              "    </tr>\n",
              "    <tr>\n",
              "      <th>2</th>\n",
              "      <td>K Nearest Neighbor Classifier</td>\n",
              "      <td>R2 Scores</td>\n",
              "      <td>0.898348</td>\n",
              "    </tr>\n",
              "    <tr>\n",
              "      <th>3</th>\n",
              "      <td>Decision Tree Classifier</td>\n",
              "      <td>R2 Scores</td>\n",
              "      <td>0.948679</td>\n",
              "    </tr>\n",
              "    <tr>\n",
              "      <th>4</th>\n",
              "      <td>Random Forest Classifier</td>\n",
              "      <td>Accuracy</td>\n",
              "      <td>0.975419</td>\n",
              "    </tr>\n",
              "    <tr>\n",
              "      <th>5</th>\n",
              "      <td>XG Boost Classifier</td>\n",
              "      <td>Accuracy</td>\n",
              "      <td>0.981025</td>\n",
              "    </tr>\n",
              "    <tr>\n",
              "      <th>6</th>\n",
              "      <td>K Nearest Neighbor Classifier</td>\n",
              "      <td>Accuracy</td>\n",
              "      <td>0.731705</td>\n",
              "    </tr>\n",
              "    <tr>\n",
              "      <th>7</th>\n",
              "      <td>Decision Tree Classifier</td>\n",
              "      <td>Accuracy</td>\n",
              "      <td>0.949606</td>\n",
              "    </tr>\n",
              "  </tbody>\n",
              "</table>\n",
              "</div>"
            ],
            "text/plain": [
              "                       Algorithm   variable     value\n",
              "0       Random Forest Classifier  R2 Scores  0.986196\n",
              "1            XG Boost Classifier  R2 Scores  0.986443\n",
              "2  K Nearest Neighbor Classifier  R2 Scores  0.898348\n",
              "3       Decision Tree Classifier  R2 Scores  0.948679\n",
              "4       Random Forest Classifier   Accuracy  0.975419\n",
              "5            XG Boost Classifier   Accuracy  0.981025\n",
              "6  K Nearest Neighbor Classifier   Accuracy  0.731705\n",
              "7       Decision Tree Classifier   Accuracy  0.949606"
            ]
          },
          "metadata": {
            "tags": []
          },
          "execution_count": 39
        }
      ]
    },
    {
      "cell_type": "code",
      "metadata": {
        "id": "44d94nyGHrxu",
        "colab_type": "code",
        "colab": {
          "base_uri": "https://localhost:8080/",
          "height": 542
        },
        "outputId": "85ee665c-b75b-4fd5-d90c-172ef4c5223d"
      },
      "source": [
        "px.line(data_frame=compare_df_melt, x='Algorithm', y='value', color='variable').update_layout(\n",
        "    title=\"Comparing each Algorithm's R2 Score and Accuracy\", xaxis_title='Algorithms', yaxis_title='Scores'\n",
        ")"
      ],
      "execution_count": 40,
      "outputs": [
        {
          "output_type": "display_data",
          "data": {
            "text/html": [
              "<html>\n",
              "<head><meta charset=\"utf-8\" /></head>\n",
              "<body>\n",
              "    <div>\n",
              "            <script src=\"https://cdnjs.cloudflare.com/ajax/libs/mathjax/2.7.5/MathJax.js?config=TeX-AMS-MML_SVG\"></script><script type=\"text/javascript\">if (window.MathJax) {MathJax.Hub.Config({SVG: {font: \"STIX-Web\"}});}</script>\n",
              "                <script type=\"text/javascript\">window.PlotlyConfig = {MathJaxConfig: 'local'};</script>\n",
              "        <script src=\"https://cdn.plot.ly/plotly-latest.min.js\"></script>    \n",
              "            <div id=\"53e343d3-b68e-432f-a9f6-130282aa1a65\" class=\"plotly-graph-div\" style=\"height:525px; width:100%;\"></div>\n",
              "            <script type=\"text/javascript\">\n",
              "                \n",
              "                    window.PLOTLYENV=window.PLOTLYENV || {};\n",
              "                    \n",
              "                if (document.getElementById(\"53e343d3-b68e-432f-a9f6-130282aa1a65\")) {\n",
              "                    Plotly.newPlot(\n",
              "                        '53e343d3-b68e-432f-a9f6-130282aa1a65',\n",
              "                        [{\"hoverlabel\": {\"namelength\": 0}, \"hovertemplate\": \"variable=R2 Scores<br>Algorithm=%{x}<br>value=%{y}\", \"legendgroup\": \"variable=R2 Scores\", \"line\": {\"color\": \"#636efa\", \"dash\": \"solid\"}, \"mode\": \"lines\", \"name\": \"variable=R2 Scores\", \"showlegend\": true, \"type\": \"scatter\", \"x\": [\"Random Forest Classifier\", \"XG Boost Classifier\", \"K Nearest Neighbor Classifier\", \"Decision Tree Classifier\"], \"xaxis\": \"x\", \"y\": [0.986196279307216, 0.9864428297001587, 0.8983480502231349, 0.9486790469989954], \"yaxis\": \"y\"}, {\"hoverlabel\": {\"namelength\": 0}, \"hovertemplate\": \"variable=Accuracy<br>Algorithm=%{x}<br>value=%{y}\", \"legendgroup\": \"variable=Accuracy\", \"line\": {\"color\": \"#EF553B\", \"dash\": \"solid\"}, \"mode\": \"lines\", \"name\": \"variable=Accuracy\", \"showlegend\": true, \"type\": \"scatter\", \"x\": [\"Random Forest Classifier\", \"XG Boost Classifier\", \"K Nearest Neighbor Classifier\", \"Decision Tree Classifier\"], \"xaxis\": \"x\", \"y\": [0.9754194628326184, 0.9810254151376914, 0.7317050314293605, 0.949605805098507], \"yaxis\": \"y\"}],\n",
              "                        {\"legend\": {\"tracegroupgap\": 0}, \"margin\": {\"t\": 60}, \"template\": {\"data\": {\"bar\": [{\"error_x\": {\"color\": \"#2a3f5f\"}, \"error_y\": {\"color\": \"#2a3f5f\"}, \"marker\": {\"line\": {\"color\": \"#E5ECF6\", \"width\": 0.5}}, \"type\": \"bar\"}], \"barpolar\": [{\"marker\": {\"line\": {\"color\": \"#E5ECF6\", \"width\": 0.5}}, \"type\": \"barpolar\"}], \"carpet\": [{\"aaxis\": {\"endlinecolor\": \"#2a3f5f\", \"gridcolor\": \"white\", \"linecolor\": \"white\", \"minorgridcolor\": \"white\", \"startlinecolor\": \"#2a3f5f\"}, \"baxis\": {\"endlinecolor\": \"#2a3f5f\", \"gridcolor\": \"white\", \"linecolor\": \"white\", \"minorgridcolor\": \"white\", \"startlinecolor\": \"#2a3f5f\"}, \"type\": \"carpet\"}], \"choropleth\": [{\"colorbar\": {\"outlinewidth\": 0, \"ticks\": \"\"}, \"type\": \"choropleth\"}], \"contour\": [{\"colorbar\": {\"outlinewidth\": 0, \"ticks\": \"\"}, \"colorscale\": [[0.0, \"#0d0887\"], [0.1111111111111111, \"#46039f\"], [0.2222222222222222, \"#7201a8\"], [0.3333333333333333, \"#9c179e\"], [0.4444444444444444, \"#bd3786\"], [0.5555555555555556, \"#d8576b\"], [0.6666666666666666, \"#ed7953\"], [0.7777777777777778, \"#fb9f3a\"], [0.8888888888888888, \"#fdca26\"], [1.0, \"#f0f921\"]], \"type\": \"contour\"}], \"contourcarpet\": [{\"colorbar\": {\"outlinewidth\": 0, \"ticks\": \"\"}, \"type\": \"contourcarpet\"}], \"heatmap\": [{\"colorbar\": {\"outlinewidth\": 0, \"ticks\": \"\"}, \"colorscale\": [[0.0, \"#0d0887\"], [0.1111111111111111, \"#46039f\"], [0.2222222222222222, \"#7201a8\"], [0.3333333333333333, \"#9c179e\"], [0.4444444444444444, \"#bd3786\"], [0.5555555555555556, \"#d8576b\"], [0.6666666666666666, \"#ed7953\"], [0.7777777777777778, \"#fb9f3a\"], [0.8888888888888888, \"#fdca26\"], [1.0, \"#f0f921\"]], \"type\": \"heatmap\"}], \"heatmapgl\": [{\"colorbar\": {\"outlinewidth\": 0, \"ticks\": \"\"}, \"colorscale\": [[0.0, \"#0d0887\"], [0.1111111111111111, \"#46039f\"], [0.2222222222222222, \"#7201a8\"], [0.3333333333333333, \"#9c179e\"], [0.4444444444444444, \"#bd3786\"], [0.5555555555555556, \"#d8576b\"], [0.6666666666666666, \"#ed7953\"], [0.7777777777777778, \"#fb9f3a\"], [0.8888888888888888, \"#fdca26\"], [1.0, \"#f0f921\"]], \"type\": \"heatmapgl\"}], \"histogram\": [{\"marker\": {\"colorbar\": {\"outlinewidth\": 0, \"ticks\": \"\"}}, \"type\": \"histogram\"}], \"histogram2d\": [{\"colorbar\": {\"outlinewidth\": 0, \"ticks\": \"\"}, \"colorscale\": [[0.0, \"#0d0887\"], [0.1111111111111111, \"#46039f\"], [0.2222222222222222, \"#7201a8\"], [0.3333333333333333, \"#9c179e\"], [0.4444444444444444, \"#bd3786\"], [0.5555555555555556, \"#d8576b\"], [0.6666666666666666, \"#ed7953\"], [0.7777777777777778, \"#fb9f3a\"], [0.8888888888888888, \"#fdca26\"], [1.0, \"#f0f921\"]], \"type\": \"histogram2d\"}], \"histogram2dcontour\": [{\"colorbar\": {\"outlinewidth\": 0, \"ticks\": \"\"}, \"colorscale\": [[0.0, \"#0d0887\"], [0.1111111111111111, \"#46039f\"], [0.2222222222222222, \"#7201a8\"], [0.3333333333333333, \"#9c179e\"], [0.4444444444444444, \"#bd3786\"], [0.5555555555555556, \"#d8576b\"], [0.6666666666666666, \"#ed7953\"], [0.7777777777777778, \"#fb9f3a\"], [0.8888888888888888, \"#fdca26\"], [1.0, \"#f0f921\"]], \"type\": \"histogram2dcontour\"}], \"mesh3d\": [{\"colorbar\": {\"outlinewidth\": 0, \"ticks\": \"\"}, \"type\": \"mesh3d\"}], \"parcoords\": [{\"line\": {\"colorbar\": {\"outlinewidth\": 0, \"ticks\": \"\"}}, \"type\": \"parcoords\"}], \"pie\": [{\"automargin\": true, \"type\": \"pie\"}], \"scatter\": [{\"marker\": {\"colorbar\": {\"outlinewidth\": 0, \"ticks\": \"\"}}, \"type\": \"scatter\"}], \"scatter3d\": [{\"line\": {\"colorbar\": {\"outlinewidth\": 0, \"ticks\": \"\"}}, \"marker\": {\"colorbar\": {\"outlinewidth\": 0, \"ticks\": \"\"}}, \"type\": \"scatter3d\"}], \"scattercarpet\": [{\"marker\": {\"colorbar\": {\"outlinewidth\": 0, \"ticks\": \"\"}}, \"type\": \"scattercarpet\"}], \"scattergeo\": [{\"marker\": {\"colorbar\": {\"outlinewidth\": 0, \"ticks\": \"\"}}, \"type\": \"scattergeo\"}], \"scattergl\": [{\"marker\": {\"colorbar\": {\"outlinewidth\": 0, \"ticks\": \"\"}}, \"type\": \"scattergl\"}], \"scattermapbox\": [{\"marker\": {\"colorbar\": {\"outlinewidth\": 0, \"ticks\": \"\"}}, \"type\": \"scattermapbox\"}], \"scatterpolar\": [{\"marker\": {\"colorbar\": {\"outlinewidth\": 0, \"ticks\": \"\"}}, \"type\": \"scatterpolar\"}], \"scatterpolargl\": [{\"marker\": {\"colorbar\": {\"outlinewidth\": 0, \"ticks\": \"\"}}, \"type\": \"scatterpolargl\"}], \"scatterternary\": [{\"marker\": {\"colorbar\": {\"outlinewidth\": 0, \"ticks\": \"\"}}, \"type\": \"scatterternary\"}], \"surface\": [{\"colorbar\": {\"outlinewidth\": 0, \"ticks\": \"\"}, \"colorscale\": [[0.0, \"#0d0887\"], [0.1111111111111111, \"#46039f\"], [0.2222222222222222, \"#7201a8\"], [0.3333333333333333, \"#9c179e\"], [0.4444444444444444, \"#bd3786\"], [0.5555555555555556, \"#d8576b\"], [0.6666666666666666, \"#ed7953\"], [0.7777777777777778, \"#fb9f3a\"], [0.8888888888888888, \"#fdca26\"], [1.0, \"#f0f921\"]], \"type\": \"surface\"}], \"table\": [{\"cells\": {\"fill\": {\"color\": \"#EBF0F8\"}, \"line\": {\"color\": \"white\"}}, \"header\": {\"fill\": {\"color\": \"#C8D4E3\"}, \"line\": {\"color\": \"white\"}}, \"type\": \"table\"}]}, \"layout\": {\"annotationdefaults\": {\"arrowcolor\": \"#2a3f5f\", \"arrowhead\": 0, \"arrowwidth\": 1}, \"coloraxis\": {\"colorbar\": {\"outlinewidth\": 0, \"ticks\": \"\"}}, \"colorscale\": {\"diverging\": [[0, \"#8e0152\"], [0.1, \"#c51b7d\"], [0.2, \"#de77ae\"], [0.3, \"#f1b6da\"], [0.4, \"#fde0ef\"], [0.5, \"#f7f7f7\"], [0.6, \"#e6f5d0\"], [0.7, \"#b8e186\"], [0.8, \"#7fbc41\"], [0.9, \"#4d9221\"], [1, \"#276419\"]], \"sequential\": [[0.0, \"#0d0887\"], [0.1111111111111111, \"#46039f\"], [0.2222222222222222, \"#7201a8\"], [0.3333333333333333, \"#9c179e\"], [0.4444444444444444, \"#bd3786\"], [0.5555555555555556, \"#d8576b\"], [0.6666666666666666, \"#ed7953\"], [0.7777777777777778, \"#fb9f3a\"], [0.8888888888888888, \"#fdca26\"], [1.0, \"#f0f921\"]], \"sequentialminus\": [[0.0, \"#0d0887\"], [0.1111111111111111, \"#46039f\"], [0.2222222222222222, \"#7201a8\"], [0.3333333333333333, \"#9c179e\"], [0.4444444444444444, \"#bd3786\"], [0.5555555555555556, \"#d8576b\"], [0.6666666666666666, \"#ed7953\"], [0.7777777777777778, \"#fb9f3a\"], [0.8888888888888888, \"#fdca26\"], [1.0, \"#f0f921\"]]}, \"colorway\": [\"#636efa\", \"#EF553B\", \"#00cc96\", \"#ab63fa\", \"#FFA15A\", \"#19d3f3\", \"#FF6692\", \"#B6E880\", \"#FF97FF\", \"#FECB52\"], \"font\": {\"color\": \"#2a3f5f\"}, \"geo\": {\"bgcolor\": \"white\", \"lakecolor\": \"white\", \"landcolor\": \"#E5ECF6\", \"showlakes\": true, \"showland\": true, \"subunitcolor\": \"white\"}, \"hoverlabel\": {\"align\": \"left\"}, \"hovermode\": \"closest\", \"mapbox\": {\"style\": \"light\"}, \"paper_bgcolor\": \"white\", \"plot_bgcolor\": \"#E5ECF6\", \"polar\": {\"angularaxis\": {\"gridcolor\": \"white\", \"linecolor\": \"white\", \"ticks\": \"\"}, \"bgcolor\": \"#E5ECF6\", \"radialaxis\": {\"gridcolor\": \"white\", \"linecolor\": \"white\", \"ticks\": \"\"}}, \"scene\": {\"xaxis\": {\"backgroundcolor\": \"#E5ECF6\", \"gridcolor\": \"white\", \"gridwidth\": 2, \"linecolor\": \"white\", \"showbackground\": true, \"ticks\": \"\", \"zerolinecolor\": \"white\"}, \"yaxis\": {\"backgroundcolor\": \"#E5ECF6\", \"gridcolor\": \"white\", \"gridwidth\": 2, \"linecolor\": \"white\", \"showbackground\": true, \"ticks\": \"\", \"zerolinecolor\": \"white\"}, \"zaxis\": {\"backgroundcolor\": \"#E5ECF6\", \"gridcolor\": \"white\", \"gridwidth\": 2, \"linecolor\": \"white\", \"showbackground\": true, \"ticks\": \"\", \"zerolinecolor\": \"white\"}}, \"shapedefaults\": {\"line\": {\"color\": \"#2a3f5f\"}}, \"ternary\": {\"aaxis\": {\"gridcolor\": \"white\", \"linecolor\": \"white\", \"ticks\": \"\"}, \"baxis\": {\"gridcolor\": \"white\", \"linecolor\": \"white\", \"ticks\": \"\"}, \"bgcolor\": \"#E5ECF6\", \"caxis\": {\"gridcolor\": \"white\", \"linecolor\": \"white\", \"ticks\": \"\"}}, \"title\": {\"x\": 0.05}, \"xaxis\": {\"automargin\": true, \"gridcolor\": \"white\", \"linecolor\": \"white\", \"ticks\": \"\", \"title\": {\"standoff\": 15}, \"zerolinecolor\": \"white\", \"zerolinewidth\": 2}, \"yaxis\": {\"automargin\": true, \"gridcolor\": \"white\", \"linecolor\": \"white\", \"ticks\": \"\", \"title\": {\"standoff\": 15}, \"zerolinecolor\": \"white\", \"zerolinewidth\": 2}}}, \"title\": {\"text\": \"Comparing each Algorithm's R2 Score and Accuracy\"}, \"xaxis\": {\"anchor\": \"y\", \"domain\": [0.0, 1.0], \"title\": {\"text\": \"Algorithms\"}}, \"yaxis\": {\"anchor\": \"x\", \"domain\": [0.0, 1.0], \"title\": {\"text\": \"Scores\"}}},\n",
              "                        {\"responsive\": true}\n",
              "                    ).then(function(){\n",
              "                            \n",
              "var gd = document.getElementById('53e343d3-b68e-432f-a9f6-130282aa1a65');\n",
              "var x = new MutationObserver(function (mutations, observer) {{\n",
              "        var display = window.getComputedStyle(gd).display;\n",
              "        if (!display || display === 'none') {{\n",
              "            console.log([gd, 'removed!']);\n",
              "            Plotly.purge(gd);\n",
              "            observer.disconnect();\n",
              "        }}\n",
              "}});\n",
              "\n",
              "// Listen for the removal of the full notebook cells\n",
              "var notebookContainer = gd.closest('#notebook-container');\n",
              "if (notebookContainer) {{\n",
              "    x.observe(notebookContainer, {childList: true});\n",
              "}}\n",
              "\n",
              "// Listen for the clearing of the current output cell\n",
              "var outputEl = gd.closest('.output');\n",
              "if (outputEl) {{\n",
              "    x.observe(outputEl, {childList: true});\n",
              "}}\n",
              "\n",
              "                        })\n",
              "                };\n",
              "                \n",
              "            </script>\n",
              "        </div>\n",
              "</body>\n",
              "</html>"
            ]
          },
          "metadata": {
            "tags": []
          }
        }
      ]
    },
    {
      "cell_type": "markdown",
      "metadata": {
        "id": "2p064K18OfTX",
        "colab_type": "text"
      },
      "source": [
        "### From the above observations:\n",
        "- The accuracy score of XGB Classifier is the best of the whole classifiers.\n",
        "- The R2 Score of XGB Classifier is the best of the whole classifiers.\n",
        "\n",
        "### The XGB Classifier is the best Classifier chosen with an Accuracy of 98.1% and R2 Score of 98.6%."
      ]
    },
    {
      "cell_type": "code",
      "metadata": {
        "id": "pivoPIcBOd2e",
        "colab_type": "code",
        "colab": {
          "base_uri": "https://localhost:8080/",
          "height": 281
        },
        "outputId": "92775b12-b861-4984-a747-64472951c7f6"
      },
      "source": [
        "predicted = xgb.predict(X_test)\n",
        "sns.heatmap(\n",
        "    confusion_matrix(y_test, predicted), annot=True\n",
        ")"
      ],
      "execution_count": 41,
      "outputs": [
        {
          "output_type": "execute_result",
          "data": {
            "text/plain": [
              "<matplotlib.axes._subplots.AxesSubplot at 0x7f3298282c88>"
            ]
          },
          "metadata": {
            "tags": []
          },
          "execution_count": 41
        },
        {
          "output_type": "display_data",
          "data": {
            "image/png": "[encoded data removed]",
            "text/plain": [
              "<Figure size 432x288 with 2 Axes>"
            ]
          },
          "metadata": {
            "tags": [],
            "needs_background": "light"
          }
        }
      ]
    },
    {
      "cell_type": "code",
      "metadata": {
        "id": "QUsIwvmxP5pa",
        "colab_type": "code",
        "colab": {}
      },
      "source": [
        ""
      ],
      "execution_count": 0,
      "outputs": []
    }
  ]
}